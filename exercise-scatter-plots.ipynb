{
 "cells": [
  {
   "cell_type": "markdown",
   "id": "3f135a8b",
   "metadata": {
    "papermill": {
     "duration": 0.009231,
     "end_time": "2022-06-28T09:15:53.511497",
     "exception": false,
     "start_time": "2022-06-28T09:15:53.502266",
     "status": "completed"
    },
    "tags": []
   },
   "source": [
    "**This notebook is an exercise in the [Data Visualization](https://www.kaggle.com/learn/data-visualization) course.  You can reference the tutorial at [this link](https://www.kaggle.com/alexisbcook/scatter-plots).**\n",
    "\n",
    "---\n"
   ]
  },
  {
   "cell_type": "markdown",
   "id": "edf8080c",
   "metadata": {
    "papermill": {
     "duration": 0.006675,
     "end_time": "2022-06-28T09:15:53.525606",
     "exception": false,
     "start_time": "2022-06-28T09:15:53.518931",
     "status": "completed"
    },
    "tags": []
   },
   "source": [
    "In this exercise, you will use your new knowledge to propose a solution to a real-world scenario.  To succeed, you will need to import data into Python, answer questions using the data, and generate **scatter plots** to understand patterns in the data.\n",
    "\n",
    "## Scenario\n",
    "\n",
    "You work for a major candy producer, and your goal is to write a report that your company can use to guide the design of its next product.  Soon after starting your research, you stumble across this [very interesting dataset](https://fivethirtyeight.com/features/the-ultimate-halloween-candy-power-ranking/) containing results from a fun survey to crowdsource favorite candies.\n",
    "\n",
    "## Setup\n",
    "\n",
    "Run the next cell to import and configure the Python libraries that you need to complete the exercise."
   ]
  },
  {
   "cell_type": "code",
   "execution_count": 1,
   "id": "5dd8cb3d",
   "metadata": {
    "execution": {
     "iopub.execute_input": "2022-06-28T09:15:53.542195Z",
     "iopub.status.busy": "2022-06-28T09:15:53.540910Z",
     "iopub.status.idle": "2022-06-28T09:15:54.635239Z",
     "shell.execute_reply": "2022-06-28T09:15:54.633874Z"
    },
    "papermill": {
     "duration": 1.1052,
     "end_time": "2022-06-28T09:15:54.637704",
     "exception": false,
     "start_time": "2022-06-28T09:15:53.532504",
     "status": "completed"
    },
    "tags": []
   },
   "outputs": [
    {
     "name": "stdout",
     "output_type": "stream",
     "text": [
      "Setup Complete\n"
     ]
    }
   ],
   "source": [
    "import pandas as pd\n",
    "pd.plotting.register_matplotlib_converters()\n",
    "import matplotlib.pyplot as plt\n",
    "%matplotlib inline\n",
    "import seaborn as sns\n",
    "print(\"Setup Complete\")"
   ]
  },
  {
   "cell_type": "markdown",
   "id": "2ff0f7fd",
   "metadata": {
    "papermill": {
     "duration": 0.007096,
     "end_time": "2022-06-28T09:15:54.652096",
     "exception": false,
     "start_time": "2022-06-28T09:15:54.645000",
     "status": "completed"
    },
    "tags": []
   },
   "source": [
    "The questions below will give you feedback on your work. Run the following cell to set up our feedback system."
   ]
  },
  {
   "cell_type": "code",
   "execution_count": 2,
   "id": "3dda59b8",
   "metadata": {
    "execution": {
     "iopub.execute_input": "2022-06-28T09:15:54.668951Z",
     "iopub.status.busy": "2022-06-28T09:15:54.668508Z",
     "iopub.status.idle": "2022-06-28T09:15:54.740590Z",
     "shell.execute_reply": "2022-06-28T09:15:54.739305Z"
    },
    "papermill": {
     "duration": 0.083514,
     "end_time": "2022-06-28T09:15:54.743220",
     "exception": false,
     "start_time": "2022-06-28T09:15:54.659706",
     "status": "completed"
    },
    "tags": []
   },
   "outputs": [
    {
     "name": "stdout",
     "output_type": "stream",
     "text": [
      "Setup Complete\n"
     ]
    }
   ],
   "source": [
    "# Set up code checking\n",
    "import os\n",
    "if not os.path.exists(\"../input/candy.csv\"):\n",
    "    os.symlink(\"../input/data-for-datavis/candy.csv\", \"../input/candy.csv\") \n",
    "from learntools.core import binder\n",
    "binder.bind(globals())\n",
    "from learntools.data_viz_to_coder.ex4 import *\n",
    "print(\"Setup Complete\")"
   ]
  },
  {
   "cell_type": "markdown",
   "id": "1ba98563",
   "metadata": {
    "papermill": {
     "duration": 0.007409,
     "end_time": "2022-06-28T09:15:54.758065",
     "exception": false,
     "start_time": "2022-06-28T09:15:54.750656",
     "status": "completed"
    },
    "tags": []
   },
   "source": [
    "## Step 1: Load the Data\n",
    "\n",
    "Read the candy data file into `candy_data`.  Use the `\"id\"` column to label the rows."
   ]
  },
  {
   "cell_type": "code",
   "execution_count": 3,
   "id": "74d8a144",
   "metadata": {
    "execution": {
     "iopub.execute_input": "2022-06-28T09:15:54.775185Z",
     "iopub.status.busy": "2022-06-28T09:15:54.774012Z",
     "iopub.status.idle": "2022-06-28T09:15:54.789712Z",
     "shell.execute_reply": "2022-06-28T09:15:54.788603Z"
    },
    "papermill": {
     "duration": 0.027115,
     "end_time": "2022-06-28T09:15:54.792484",
     "exception": false,
     "start_time": "2022-06-28T09:15:54.765369",
     "status": "completed"
    },
    "tags": []
   },
   "outputs": [
    {
     "data": {
      "application/javascript": [
       "parent.postMessage({\"jupyterEvent\": \"custom.exercise_interaction\", \"data\": {\"outcomeType\": 1, \"valueTowardsCompletion\": 0.3333333333333333, \"interactionType\": 1, \"questionType\": 1, \"questionId\": \"1_LoadData\", \"learnToolsVersion\": \"0.3.4\", \"failureMessage\": \"\", \"exceptionClass\": \"\", \"trace\": \"\"}}, \"*\")"
      ],
      "text/plain": [
       "<IPython.core.display.Javascript object>"
      ]
     },
     "metadata": {},
     "output_type": "display_data"
    },
    {
     "data": {
      "text/markdown": [
       "<span style=\"color:#33cc33\">Correct</span>"
      ],
      "text/plain": [
       "Correct"
      ]
     },
     "metadata": {},
     "output_type": "display_data"
    }
   ],
   "source": [
    "# Path of the file to read\n",
    "candy_filepath = \"../input/candy.csv\"\n",
    "\n",
    "# Fill in the line below to read the file into a variable candy_data\n",
    "candy_data = pd.read_csv(candy_filepath, index_col='id')\n",
    "\n",
    "# Run the line below with no changes to check that you've loaded the data correctly\n",
    "step_1.check()"
   ]
  },
  {
   "cell_type": "code",
   "execution_count": 4,
   "id": "70d59893",
   "metadata": {
    "execution": {
     "iopub.execute_input": "2022-06-28T09:15:54.810142Z",
     "iopub.status.busy": "2022-06-28T09:15:54.809676Z",
     "iopub.status.idle": "2022-06-28T09:15:54.813856Z",
     "shell.execute_reply": "2022-06-28T09:15:54.812913Z"
    },
    "papermill": {
     "duration": 0.015475,
     "end_time": "2022-06-28T09:15:54.815902",
     "exception": false,
     "start_time": "2022-06-28T09:15:54.800427",
     "status": "completed"
    },
    "tags": []
   },
   "outputs": [],
   "source": [
    "# Lines below will give you a hint or solution code\n",
    "# step_1.hint()\n",
    "# step_1.solution()"
   ]
  },
  {
   "cell_type": "markdown",
   "id": "1b3acb7e",
   "metadata": {
    "papermill": {
     "duration": 0.007023,
     "end_time": "2022-06-28T09:15:54.831104",
     "exception": false,
     "start_time": "2022-06-28T09:15:54.824081",
     "status": "completed"
    },
    "tags": []
   },
   "source": [
    "## Step 2: Review the data\n",
    "\n",
    "Use a Python command to print the first five rows of the data."
   ]
  },
  {
   "cell_type": "code",
   "execution_count": 5,
   "id": "1e8982d2",
   "metadata": {
    "execution": {
     "iopub.execute_input": "2022-06-28T09:15:54.847805Z",
     "iopub.status.busy": "2022-06-28T09:15:54.847371Z",
     "iopub.status.idle": "2022-06-28T09:15:54.869366Z",
     "shell.execute_reply": "2022-06-28T09:15:54.868493Z"
    },
    "papermill": {
     "duration": 0.032823,
     "end_time": "2022-06-28T09:15:54.871489",
     "exception": false,
     "start_time": "2022-06-28T09:15:54.838666",
     "status": "completed"
    },
    "tags": []
   },
   "outputs": [
    {
     "data": {
      "text/html": [
       "<div>\n",
       "<style scoped>\n",
       "    .dataframe tbody tr th:only-of-type {\n",
       "        vertical-align: middle;\n",
       "    }\n",
       "\n",
       "    .dataframe tbody tr th {\n",
       "        vertical-align: top;\n",
       "    }\n",
       "\n",
       "    .dataframe thead th {\n",
       "        text-align: right;\n",
       "    }\n",
       "</style>\n",
       "<table border=\"1\" class=\"dataframe\">\n",
       "  <thead>\n",
       "    <tr style=\"text-align: right;\">\n",
       "      <th></th>\n",
       "      <th>competitorname</th>\n",
       "      <th>chocolate</th>\n",
       "      <th>fruity</th>\n",
       "      <th>caramel</th>\n",
       "      <th>peanutyalmondy</th>\n",
       "      <th>nougat</th>\n",
       "      <th>crispedricewafer</th>\n",
       "      <th>hard</th>\n",
       "      <th>bar</th>\n",
       "      <th>pluribus</th>\n",
       "      <th>sugarpercent</th>\n",
       "      <th>pricepercent</th>\n",
       "      <th>winpercent</th>\n",
       "    </tr>\n",
       "    <tr>\n",
       "      <th>id</th>\n",
       "      <th></th>\n",
       "      <th></th>\n",
       "      <th></th>\n",
       "      <th></th>\n",
       "      <th></th>\n",
       "      <th></th>\n",
       "      <th></th>\n",
       "      <th></th>\n",
       "      <th></th>\n",
       "      <th></th>\n",
       "      <th></th>\n",
       "      <th></th>\n",
       "      <th></th>\n",
       "    </tr>\n",
       "  </thead>\n",
       "  <tbody>\n",
       "    <tr>\n",
       "      <th>0</th>\n",
       "      <td>100 Grand</td>\n",
       "      <td>Yes</td>\n",
       "      <td>No</td>\n",
       "      <td>Yes</td>\n",
       "      <td>No</td>\n",
       "      <td>No</td>\n",
       "      <td>Yes</td>\n",
       "      <td>No</td>\n",
       "      <td>Yes</td>\n",
       "      <td>No</td>\n",
       "      <td>0.732</td>\n",
       "      <td>0.860</td>\n",
       "      <td>66.971725</td>\n",
       "    </tr>\n",
       "    <tr>\n",
       "      <th>1</th>\n",
       "      <td>3 Musketeers</td>\n",
       "      <td>Yes</td>\n",
       "      <td>No</td>\n",
       "      <td>No</td>\n",
       "      <td>No</td>\n",
       "      <td>Yes</td>\n",
       "      <td>No</td>\n",
       "      <td>No</td>\n",
       "      <td>Yes</td>\n",
       "      <td>No</td>\n",
       "      <td>0.604</td>\n",
       "      <td>0.511</td>\n",
       "      <td>67.602936</td>\n",
       "    </tr>\n",
       "    <tr>\n",
       "      <th>2</th>\n",
       "      <td>Air Heads</td>\n",
       "      <td>No</td>\n",
       "      <td>Yes</td>\n",
       "      <td>No</td>\n",
       "      <td>No</td>\n",
       "      <td>No</td>\n",
       "      <td>No</td>\n",
       "      <td>No</td>\n",
       "      <td>No</td>\n",
       "      <td>No</td>\n",
       "      <td>0.906</td>\n",
       "      <td>0.511</td>\n",
       "      <td>52.341465</td>\n",
       "    </tr>\n",
       "    <tr>\n",
       "      <th>3</th>\n",
       "      <td>Almond Joy</td>\n",
       "      <td>Yes</td>\n",
       "      <td>No</td>\n",
       "      <td>No</td>\n",
       "      <td>Yes</td>\n",
       "      <td>No</td>\n",
       "      <td>No</td>\n",
       "      <td>No</td>\n",
       "      <td>Yes</td>\n",
       "      <td>No</td>\n",
       "      <td>0.465</td>\n",
       "      <td>0.767</td>\n",
       "      <td>50.347546</td>\n",
       "    </tr>\n",
       "    <tr>\n",
       "      <th>4</th>\n",
       "      <td>Baby Ruth</td>\n",
       "      <td>Yes</td>\n",
       "      <td>No</td>\n",
       "      <td>Yes</td>\n",
       "      <td>Yes</td>\n",
       "      <td>Yes</td>\n",
       "      <td>No</td>\n",
       "      <td>No</td>\n",
       "      <td>Yes</td>\n",
       "      <td>No</td>\n",
       "      <td>0.604</td>\n",
       "      <td>0.767</td>\n",
       "      <td>56.914547</td>\n",
       "    </tr>\n",
       "  </tbody>\n",
       "</table>\n",
       "</div>"
      ],
      "text/plain": [
       "   competitorname chocolate fruity caramel peanutyalmondy nougat  \\\n",
       "id                                                                 \n",
       "0       100 Grand       Yes     No     Yes             No     No   \n",
       "1    3 Musketeers       Yes     No      No             No    Yes   \n",
       "2       Air Heads        No    Yes      No             No     No   \n",
       "3      Almond Joy       Yes     No      No            Yes     No   \n",
       "4       Baby Ruth       Yes     No     Yes            Yes    Yes   \n",
       "\n",
       "   crispedricewafer hard  bar pluribus  sugarpercent  pricepercent  winpercent  \n",
       "id                                                                              \n",
       "0               Yes   No  Yes       No         0.732         0.860   66.971725  \n",
       "1                No   No  Yes       No         0.604         0.511   67.602936  \n",
       "2                No   No   No       No         0.906         0.511   52.341465  \n",
       "3                No   No  Yes       No         0.465         0.767   50.347546  \n",
       "4                No   No  Yes       No         0.604         0.767   56.914547  "
      ]
     },
     "execution_count": 5,
     "metadata": {},
     "output_type": "execute_result"
    }
   ],
   "source": [
    "# Print the first five rows of the data\n",
    "____ # Your code here\n",
    "\n",
    "candy_data.head()"
   ]
  },
  {
   "cell_type": "markdown",
   "id": "a46beedd",
   "metadata": {
    "papermill": {
     "duration": 0.007248,
     "end_time": "2022-06-28T09:15:54.886605",
     "exception": false,
     "start_time": "2022-06-28T09:15:54.879357",
     "status": "completed"
    },
    "tags": []
   },
   "source": [
    "The dataset contains 83 rows, where each corresponds to a different candy bar.  There are 13 columns:\n",
    "- `'competitorname'` contains the name of the candy bar. \n",
    "- the next **9** columns (from `'chocolate'` to `'pluribus'`) describe the candy.  For instance, rows with chocolate candies have `\"Yes\"` in the `'chocolate'` column (and candies without chocolate have `\"No\"` in the same column).\n",
    "- `'sugarpercent'` provides some indication of the amount of sugar, where higher values signify higher sugar content.\n",
    "- `'pricepercent'` shows the price per unit, relative to the other candies in the dataset.\n",
    "- `'winpercent'` is calculated from the survey results; higher values indicate that the candy was more popular with survey respondents.\n",
    "\n",
    "Use the first five rows of the data to answer the questions below."
   ]
  },
  {
   "cell_type": "code",
   "execution_count": 6,
   "id": "f59e0305",
   "metadata": {
    "execution": {
     "iopub.execute_input": "2022-06-28T09:15:54.903923Z",
     "iopub.status.busy": "2022-06-28T09:15:54.903245Z",
     "iopub.status.idle": "2022-06-28T09:15:54.910799Z",
     "shell.execute_reply": "2022-06-28T09:15:54.909712Z"
    },
    "papermill": {
     "duration": 0.019072,
     "end_time": "2022-06-28T09:15:54.913314",
     "exception": false,
     "start_time": "2022-06-28T09:15:54.894242",
     "status": "completed"
    },
    "tags": []
   },
   "outputs": [
    {
     "data": {
      "application/javascript": [
       "parent.postMessage({\"jupyterEvent\": \"custom.exercise_interaction\", \"data\": {\"outcomeType\": 1, \"valueTowardsCompletion\": 0.3333333333333333, \"interactionType\": 1, \"questionType\": 1, \"questionId\": \"2_ReviewData\", \"learnToolsVersion\": \"0.3.4\", \"failureMessage\": \"\", \"exceptionClass\": \"\", \"trace\": \"\"}}, \"*\")"
      ],
      "text/plain": [
       "<IPython.core.display.Javascript object>"
      ]
     },
     "metadata": {},
     "output_type": "display_data"
    },
    {
     "data": {
      "text/markdown": [
       "<span style=\"color:#33cc33\">Correct</span>"
      ],
      "text/plain": [
       "Correct"
      ]
     },
     "metadata": {},
     "output_type": "display_data"
    }
   ],
   "source": [
    "# Fill in the line below: Which candy was more popular with survey respondents:\n",
    "# '3 Musketeers' or 'Almond Joy'?  (Please enclose your answer in single quotes.)\n",
    "more_popular = '3 Musketeers'\n",
    "\n",
    "# Fill in the line below: Which candy has higher sugar content: 'Air Heads'\n",
    "# or 'Baby Ruth'? (Please enclose your answer in single quotes.)\n",
    "more_sugar = 'Air Heads'\n",
    "\n",
    "# Check your answers\n",
    "step_2.check()"
   ]
  },
  {
   "cell_type": "code",
   "execution_count": 7,
   "id": "0e1fd835",
   "metadata": {
    "execution": {
     "iopub.execute_input": "2022-06-28T09:15:54.931490Z",
     "iopub.status.busy": "2022-06-28T09:15:54.930400Z",
     "iopub.status.idle": "2022-06-28T09:15:54.935341Z",
     "shell.execute_reply": "2022-06-28T09:15:54.934295Z"
    },
    "papermill": {
     "duration": 0.016268,
     "end_time": "2022-06-28T09:15:54.937668",
     "exception": false,
     "start_time": "2022-06-28T09:15:54.921400",
     "status": "completed"
    },
    "tags": []
   },
   "outputs": [],
   "source": [
    "# Lines below will give you a hint or solution code\n",
    "# step_2.hint()\n",
    "# step_2.solution()"
   ]
  },
  {
   "cell_type": "markdown",
   "id": "acea06a8",
   "metadata": {
    "papermill": {
     "duration": 0.007352,
     "end_time": "2022-06-28T09:15:54.952805",
     "exception": false,
     "start_time": "2022-06-28T09:15:54.945453",
     "status": "completed"
    },
    "tags": []
   },
   "source": [
    "## Step 3: The role of sugar\n",
    "\n",
    "Do people tend to prefer candies with higher sugar content?  \n",
    "\n",
    "#### Part A\n",
    "\n",
    "Create a scatter plot that shows the relationship between `'sugarpercent'` (on the horizontal x-axis) and `'winpercent'` (on the vertical y-axis).  _Don't add a regression line just yet -- you'll do that in the next step!_"
   ]
  },
  {
   "cell_type": "code",
   "execution_count": 8,
   "id": "f7456344",
   "metadata": {
    "execution": {
     "iopub.execute_input": "2022-06-28T09:15:54.970755Z",
     "iopub.status.busy": "2022-06-28T09:15:54.970375Z",
     "iopub.status.idle": "2022-06-28T09:15:55.208432Z",
     "shell.execute_reply": "2022-06-28T09:15:55.207199Z"
    },
    "papermill": {
     "duration": 0.250066,
     "end_time": "2022-06-28T09:15:55.210950",
     "exception": false,
     "start_time": "2022-06-28T09:15:54.960884",
     "status": "completed"
    },
    "tags": []
   },
   "outputs": [
    {
     "data": {
      "application/javascript": [
       "parent.postMessage({\"jupyterEvent\": \"custom.exercise_interaction\", \"data\": {\"outcomeType\": 1, \"valueTowardsCompletion\": 0.3333333333333333, \"interactionType\": 1, \"questionType\": 2, \"questionId\": \"3.1_PlotBlueScatter\", \"learnToolsVersion\": \"0.3.4\", \"failureMessage\": \"\", \"exceptionClass\": \"\", \"trace\": \"\"}}, \"*\")"
      ],
      "text/plain": [
       "<IPython.core.display.Javascript object>"
      ]
     },
     "metadata": {},
     "output_type": "display_data"
    },
    {
     "data": {
      "text/markdown": [
       "<span style=\"color:#33cc33\">Correct</span>"
      ],
      "text/plain": [
       "Correct"
      ]
     },
     "metadata": {},
     "output_type": "display_data"
    },
    {
     "data": {
      "image/png": "[encoded data removed]",
      "text/plain": [
       "<Figure size 432x288 with 1 Axes>"
      ]
     },
     "metadata": {
      "needs_background": "light"
     },
     "output_type": "display_data"
    }
   ],
   "source": [
    "# Scatter plot showing the relationship between 'sugarpercent' and 'winpercent'\n",
    "____ # Your code here\n",
    "\n",
    "sns.scatterplot(x=candy_data['sugarpercent'], y=candy_data['winpercent'])\n",
    "\n",
    "# Check your answer\n",
    "step_3.a.check()"
   ]
  },
  {
   "cell_type": "code",
   "execution_count": 9,
   "id": "f6f65ff1",
   "metadata": {
    "execution": {
     "iopub.execute_input": "2022-06-28T09:15:55.230135Z",
     "iopub.status.busy": "2022-06-28T09:15:55.229378Z",
     "iopub.status.idle": "2022-06-28T09:15:55.233729Z",
     "shell.execute_reply": "2022-06-28T09:15:55.232843Z"
    },
    "papermill": {
     "duration": 0.016212,
     "end_time": "2022-06-28T09:15:55.235705",
     "exception": false,
     "start_time": "2022-06-28T09:15:55.219493",
     "status": "completed"
    },
    "tags": []
   },
   "outputs": [],
   "source": [
    "# Lines below will give you a hint or solution code\n",
    "# step_3.a.hint()\n",
    "# step_3.a.solution_plot()"
   ]
  },
  {
   "cell_type": "markdown",
   "id": "eb8605da",
   "metadata": {
    "papermill": {
     "duration": 0.008286,
     "end_time": "2022-06-28T09:15:55.252380",
     "exception": false,
     "start_time": "2022-06-28T09:15:55.244094",
     "status": "completed"
    },
    "tags": []
   },
   "source": [
    "#### Part B\n",
    "\n",
    "Does the scatter plot show a **strong** correlation between the two variables?  If so, are candies with more sugar relatively more or less popular with the survey respondents?"
   ]
  },
  {
   "cell_type": "code",
   "execution_count": 10,
   "id": "b9c148a8",
   "metadata": {
    "execution": {
     "iopub.execute_input": "2022-06-28T09:15:55.271200Z",
     "iopub.status.busy": "2022-06-28T09:15:55.269933Z",
     "iopub.status.idle": "2022-06-28T09:15:55.275284Z",
     "shell.execute_reply": "2022-06-28T09:15:55.274136Z"
    },
    "papermill": {
     "duration": 0.017027,
     "end_time": "2022-06-28T09:15:55.277669",
     "exception": false,
     "start_time": "2022-06-28T09:15:55.260642",
     "status": "completed"
    },
    "tags": []
   },
   "outputs": [],
   "source": [
    "#step_3.b.hint()"
   ]
  },
  {
   "cell_type": "code",
   "execution_count": 11,
   "id": "efad1972",
   "metadata": {
    "execution": {
     "iopub.execute_input": "2022-06-28T09:15:55.295699Z",
     "iopub.status.busy": "2022-06-28T09:15:55.295254Z",
     "iopub.status.idle": "2022-06-28T09:15:55.303138Z",
     "shell.execute_reply": "2022-06-28T09:15:55.302267Z"
    },
    "papermill": {
     "duration": 0.019035,
     "end_time": "2022-06-28T09:15:55.305029",
     "exception": false,
     "start_time": "2022-06-28T09:15:55.285994",
     "status": "completed"
    },
    "tags": []
   },
   "outputs": [
    {
     "data": {
      "application/javascript": [
       "parent.postMessage({\"jupyterEvent\": \"custom.exercise_interaction\", \"data\": {\"interactionType\": 3, \"questionType\": 4, \"questionId\": \"3.2_ThinkBlueScatter\", \"learnToolsVersion\": \"0.3.4\", \"valueTowardsCompletion\": 0.0, \"failureMessage\": \"\", \"exceptionClass\": \"\", \"trace\": \"\", \"outcomeType\": 4}}, \"*\")"
      ],
      "text/plain": [
       "<IPython.core.display.Javascript object>"
      ]
     },
     "metadata": {},
     "output_type": "display_data"
    },
    {
     "data": {
      "text/markdown": [
       "<span style=\"color:#33cc99\">Solution:</span> The scatter plot does not show a strong correlation between the two variables. Since there is no clear relationship between the two variables, this tells us that sugar content does not play a strong role in candy popularity."
      ],
      "text/plain": [
       "Solution: The scatter plot does not show a strong correlation between the two variables. Since there is no clear relationship between the two variables, this tells us that sugar content does not play a strong role in candy popularity."
      ]
     },
     "metadata": {},
     "output_type": "display_data"
    }
   ],
   "source": [
    "# Check your answer (Run this code cell to receive credit!)\n",
    "step_3.b.solution()"
   ]
  },
  {
   "cell_type": "markdown",
   "id": "d8477f0c",
   "metadata": {
    "papermill": {
     "duration": 0.008048,
     "end_time": "2022-06-28T09:15:55.321467",
     "exception": false,
     "start_time": "2022-06-28T09:15:55.313419",
     "status": "completed"
    },
    "tags": []
   },
   "source": [
    "## Step 4: Take a closer look\n",
    "\n",
    "#### Part A\n",
    "\n",
    "Create the same scatter plot you created in **Step 3**, but now with a regression line!"
   ]
  },
  {
   "cell_type": "code",
   "execution_count": 12,
   "id": "747af34b",
   "metadata": {
    "execution": {
     "iopub.execute_input": "2022-06-28T09:15:55.340408Z",
     "iopub.status.busy": "2022-06-28T09:15:55.339484Z",
     "iopub.status.idle": "2022-06-28T09:15:55.613588Z",
     "shell.execute_reply": "2022-06-28T09:15:55.612353Z"
    },
    "papermill": {
     "duration": 0.2863,
     "end_time": "2022-06-28T09:15:55.616136",
     "exception": false,
     "start_time": "2022-06-28T09:15:55.329836",
     "status": "completed"
    },
    "tags": []
   },
   "outputs": [
    {
     "data": {
      "application/javascript": [
       "parent.postMessage({\"jupyterEvent\": \"custom.exercise_interaction\", \"data\": {\"outcomeType\": 1, \"valueTowardsCompletion\": 0.3333333333333333, \"interactionType\": 1, \"questionType\": 2, \"questionId\": \"4.1_PlotBlueReg\", \"learnToolsVersion\": \"0.3.4\", \"failureMessage\": \"\", \"exceptionClass\": \"\", \"trace\": \"\"}}, \"*\")"
      ],
      "text/plain": [
       "<IPython.core.display.Javascript object>"
      ]
     },
     "metadata": {},
     "output_type": "display_data"
    },
    {
     "data": {
      "text/markdown": [
       "<span style=\"color:#33cc33\">Correct</span>"
      ],
      "text/plain": [
       "Correct"
      ]
     },
     "metadata": {},
     "output_type": "display_data"
    },
    {
     "data": {
      "image/png": "[encoded data removed]",
      "text/plain": [
       "<Figure size 432x288 with 1 Axes>"
      ]
     },
     "metadata": {
      "needs_background": "light"
     },
     "output_type": "display_data"
    }
   ],
   "source": [
    "# Scatter plot w/ regression line showing the relationship between 'sugarpercent' and 'winpercent'\n",
    "____ # Your code here\n",
    "\n",
    "sns.regplot(x=candy_data['sugarpercent'], y=candy_data['winpercent'])\n",
    "\n",
    "# Check your answer\n",
    "step_4.a.check()"
   ]
  },
  {
   "cell_type": "code",
   "execution_count": 13,
   "id": "8f258bab",
   "metadata": {
    "execution": {
     "iopub.execute_input": "2022-06-28T09:15:55.636360Z",
     "iopub.status.busy": "2022-06-28T09:15:55.635662Z",
     "iopub.status.idle": "2022-06-28T09:15:55.640439Z",
     "shell.execute_reply": "2022-06-28T09:15:55.639370Z"
    },
    "papermill": {
     "duration": 0.01729,
     "end_time": "2022-06-28T09:15:55.642495",
     "exception": false,
     "start_time": "2022-06-28T09:15:55.625205",
     "status": "completed"
    },
    "tags": []
   },
   "outputs": [],
   "source": [
    "# Lines below will give you a hint or solution code\n",
    "# step_4.a.hint()\n",
    "# step_4.a.solution_plot()"
   ]
  },
  {
   "cell_type": "markdown",
   "id": "85ac7054",
   "metadata": {
    "papermill": {
     "duration": 0.008656,
     "end_time": "2022-06-28T09:15:55.660621",
     "exception": false,
     "start_time": "2022-06-28T09:15:55.651965",
     "status": "completed"
    },
    "tags": []
   },
   "source": [
    "#### Part B\n",
    "\n",
    "According to the plot above, is there a **slight** correlation between `'winpercent'` and `'sugarpercent'`?  What does this tell you about the candy that people tend to prefer?"
   ]
  },
  {
   "cell_type": "code",
   "execution_count": 14,
   "id": "60922dd8",
   "metadata": {
    "execution": {
     "iopub.execute_input": "2022-06-28T09:15:55.680550Z",
     "iopub.status.busy": "2022-06-28T09:15:55.680164Z",
     "iopub.status.idle": "2022-06-28T09:15:55.685117Z",
     "shell.execute_reply": "2022-06-28T09:15:55.684016Z"
    },
    "papermill": {
     "duration": 0.018006,
     "end_time": "2022-06-28T09:15:55.687594",
     "exception": false,
     "start_time": "2022-06-28T09:15:55.669588",
     "status": "completed"
    },
    "tags": []
   },
   "outputs": [],
   "source": [
    "#step_4.b.hint()"
   ]
  },
  {
   "cell_type": "code",
   "execution_count": 15,
   "id": "f1f68ff2",
   "metadata": {
    "execution": {
     "iopub.execute_input": "2022-06-28T09:15:55.707507Z",
     "iopub.status.busy": "2022-06-28T09:15:55.706684Z",
     "iopub.status.idle": "2022-06-28T09:15:55.713548Z",
     "shell.execute_reply": "2022-06-28T09:15:55.712818Z"
    },
    "papermill": {
     "duration": 0.018895,
     "end_time": "2022-06-28T09:15:55.715492",
     "exception": false,
     "start_time": "2022-06-28T09:15:55.696597",
     "status": "completed"
    },
    "tags": []
   },
   "outputs": [
    {
     "data": {
      "application/javascript": [
       "parent.postMessage({\"jupyterEvent\": \"custom.exercise_interaction\", \"data\": {\"interactionType\": 3, \"questionType\": 4, \"questionId\": \"4.2_ThinkBlueReg\", \"learnToolsVersion\": \"0.3.4\", \"valueTowardsCompletion\": 0.0, \"failureMessage\": \"\", \"exceptionClass\": \"\", \"trace\": \"\", \"outcomeType\": 4}}, \"*\")"
      ],
      "text/plain": [
       "<IPython.core.display.Javascript object>"
      ]
     },
     "metadata": {},
     "output_type": "display_data"
    },
    {
     "data": {
      "text/markdown": [
       "<span style=\"color:#33cc99\">Solution:</span> Since the regression line has a slightly positive slope, this tells us that there is a slightly positive correlation between `'winpercent'` and `'sugarpercent'`. Thus, people have a slight preference for candies containing relatively more sugar."
      ],
      "text/plain": [
       "Solution: Since the regression line has a slightly positive slope, this tells us that there is a slightly positive correlation between `'winpercent'` and `'sugarpercent'`. Thus, people have a slight preference for candies containing relatively more sugar."
      ]
     },
     "metadata": {},
     "output_type": "display_data"
    }
   ],
   "source": [
    "# Check your answer (Run this code cell to receive credit!)\n",
    "step_4.b.solution()"
   ]
  },
  {
   "cell_type": "markdown",
   "id": "a03b65cd",
   "metadata": {
    "papermill": {
     "duration": 0.009083,
     "end_time": "2022-06-28T09:15:55.733673",
     "exception": false,
     "start_time": "2022-06-28T09:15:55.724590",
     "status": "completed"
    },
    "tags": []
   },
   "source": [
    "## Step 5: Chocolate!\n",
    "\n",
    "In the code cell below, create a scatter plot to show the relationship between `'pricepercent'` (on the horizontal x-axis) and `'winpercent'` (on the vertical y-axis). Use the `'chocolate'` column to color-code the points.  _Don't add any regression lines just yet -- you'll do that in the next step!_"
   ]
  },
  {
   "cell_type": "code",
   "execution_count": 16,
   "id": "72e969f7",
   "metadata": {
    "execution": {
     "iopub.execute_input": "2022-06-28T09:15:55.754086Z",
     "iopub.status.busy": "2022-06-28T09:15:55.753420Z",
     "iopub.status.idle": "2022-06-28T09:15:55.993160Z",
     "shell.execute_reply": "2022-06-28T09:15:55.992237Z"
    },
    "papermill": {
     "duration": 0.252444,
     "end_time": "2022-06-28T09:15:55.995176",
     "exception": false,
     "start_time": "2022-06-28T09:15:55.742732",
     "status": "completed"
    },
    "tags": []
   },
   "outputs": [
    {
     "data": {
      "application/javascript": [
       "parent.postMessage({\"jupyterEvent\": \"custom.exercise_interaction\", \"data\": {\"outcomeType\": 1, \"valueTowardsCompletion\": 0.3333333333333333, \"interactionType\": 1, \"questionType\": 2, \"questionId\": \"5_ColorScatter\", \"learnToolsVersion\": \"0.3.4\", \"failureMessage\": \"\", \"exceptionClass\": \"\", \"trace\": \"\"}}, \"*\")"
      ],
      "text/plain": [
       "<IPython.core.display.Javascript object>"
      ]
     },
     "metadata": {},
     "output_type": "display_data"
    },
    {
     "data": {
      "text/markdown": [
       "<span style=\"color:#33cc33\">Correct</span>"
      ],
      "text/plain": [
       "Correct"
      ]
     },
     "metadata": {},
     "output_type": "display_data"
    },
    {
     "data": {
      "image/png": "[encoded data removed]",
      "text/plain": [
       "<Figure size 432x288 with 1 Axes>"
      ]
     },
     "metadata": {
      "needs_background": "light"
     },
     "output_type": "display_data"
    }
   ],
   "source": [
    "# Scatter plot showing the relationship between 'pricepercent', 'winpercent', and 'chocolate'\n",
    "____ # Your code here\n",
    "\n",
    "sns.scatterplot(x=candy_data['pricepercent'], y=candy_data['winpercent'], hue=candy_data['chocolate'])\n",
    "\n",
    "# Check your answer\n",
    "step_5.check()"
   ]
  },
  {
   "cell_type": "code",
   "execution_count": 17,
   "id": "d35b551e",
   "metadata": {
    "execution": {
     "iopub.execute_input": "2022-06-28T09:15:56.016821Z",
     "iopub.status.busy": "2022-06-28T09:15:56.016202Z",
     "iopub.status.idle": "2022-06-28T09:15:56.019712Z",
     "shell.execute_reply": "2022-06-28T09:15:56.018841Z"
    },
    "papermill": {
     "duration": 0.01674,
     "end_time": "2022-06-28T09:15:56.021631",
     "exception": false,
     "start_time": "2022-06-28T09:15:56.004891",
     "status": "completed"
    },
    "tags": []
   },
   "outputs": [],
   "source": [
    "# Lines below will give you a hint or solution code\n",
    "# step_5.hint()\n",
    "# step_5.solution_plot()"
   ]
  },
  {
   "cell_type": "markdown",
   "id": "55460cd1",
   "metadata": {
    "papermill": {
     "duration": 0.009394,
     "end_time": "2022-06-28T09:15:56.040651",
     "exception": false,
     "start_time": "2022-06-28T09:15:56.031257",
     "status": "completed"
    },
    "tags": []
   },
   "source": [
    "Can you see any interesting patterns in the scatter plot?  We'll investigate this plot further  by adding regression lines in the next step!\n",
    "\n",
    "## Step 6: Investigate chocolate\n",
    "\n",
    "#### Part A\n",
    "\n",
    "Create the same scatter plot you created in **Step 5**, but now with two regression lines, corresponding to (1) chocolate candies and (2) candies without chocolate."
   ]
  },
  {
   "cell_type": "code",
   "execution_count": 18,
   "id": "def06d04",
   "metadata": {
    "execution": {
     "iopub.execute_input": "2022-06-28T09:15:56.061871Z",
     "iopub.status.busy": "2022-06-28T09:15:56.061431Z",
     "iopub.status.idle": "2022-06-28T09:15:56.610392Z",
     "shell.execute_reply": "2022-06-28T09:15:56.609274Z"
    },
    "papermill": {
     "duration": 0.562558,
     "end_time": "2022-06-28T09:15:56.612834",
     "exception": false,
     "start_time": "2022-06-28T09:15:56.050276",
     "status": "completed"
    },
    "tags": []
   },
   "outputs": [
    {
     "data": {
      "application/javascript": [
       "parent.postMessage({\"jupyterEvent\": \"custom.exercise_interaction\", \"data\": {\"outcomeType\": 1, \"valueTowardsCompletion\": 0.3333333333333333, \"interactionType\": 1, \"questionType\": 2, \"questionId\": \"6.1_PlotColorReg\", \"learnToolsVersion\": \"0.3.4\", \"failureMessage\": \"\", \"exceptionClass\": \"\", \"trace\": \"\"}}, \"*\")"
      ],
      "text/plain": [
       "<IPython.core.display.Javascript object>"
      ]
     },
     "metadata": {},
     "output_type": "display_data"
    },
    {
     "data": {
      "text/markdown": [
       "<span style=\"color:#33cc33\">Correct</span>"
      ],
      "text/plain": [
       "Correct"
      ]
     },
     "metadata": {},
     "output_type": "display_data"
    },
    {
     "data": {
      "image/png": "[encoded data removed]",
      "text/plain": [
       "<Figure size 416.375x360 with 1 Axes>"
      ]
     },
     "metadata": {
      "needs_background": "light"
     },
     "output_type": "display_data"
    }
   ],
   "source": [
    "# Color-coded scatter plot w/ regression lines\n",
    "____ # Your code here\n",
    "\n",
    "sns.lmplot(x=\"pricepercent\", y=\"winpercent\", hue=\"chocolate\", data=candy_data)\n",
    "\n",
    "# Check your answer\n",
    "step_6.a.check()"
   ]
  },
  {
   "cell_type": "code",
   "execution_count": 19,
   "id": "f7109ce0",
   "metadata": {
    "execution": {
     "iopub.execute_input": "2022-06-28T09:15:56.635420Z",
     "iopub.status.busy": "2022-06-28T09:15:56.634609Z",
     "iopub.status.idle": "2022-06-28T09:15:57.195308Z",
     "shell.execute_reply": "2022-06-28T09:15:57.194004Z"
    },
    "papermill": {
     "duration": 0.574375,
     "end_time": "2022-06-28T09:15:57.197608",
     "exception": false,
     "start_time": "2022-06-28T09:15:56.623233",
     "status": "completed"
    },
    "tags": []
   },
   "outputs": [
    {
     "data": {
      "application/javascript": [
       "parent.postMessage({\"jupyterEvent\": \"custom.exercise_interaction\", \"data\": {\"interactionType\": 2, \"questionType\": 2, \"questionId\": \"6.1_PlotColorReg\", \"learnToolsVersion\": \"0.3.4\", \"valueTowardsCompletion\": 0.0, \"failureMessage\": \"\", \"exceptionClass\": \"\", \"trace\": \"\", \"outcomeType\": 4}}, \"*\")"
      ],
      "text/plain": [
       "<IPython.core.display.Javascript object>"
      ]
     },
     "metadata": {},
     "output_type": "display_data"
    },
    {
     "data": {
      "text/markdown": [
       "<span style=\"color:#3366cc\">Hint:</span> Use `sns.lmplot`, and set the variables for the x-axis, y-axis, color of the points, and the dataset by using `x=`, `y=`, `hue=`, and `data=`, respectively."
      ],
      "text/plain": [
       "Hint: Use `sns.lmplot`, and set the variables for the x-axis, y-axis, color of the points, and the dataset by using `x=`, `y=`, `hue=`, and `data=`, respectively."
      ]
     },
     "metadata": {},
     "output_type": "display_data"
    },
    {
     "data": {
      "application/javascript": [
       "parent.postMessage({\"jupyterEvent\": \"custom.exercise_interaction\", \"data\": {\"interactionType\": 3, \"questionType\": 2, \"questionId\": \"6.1_PlotColorReg\", \"learnToolsVersion\": \"0.3.4\", \"valueTowardsCompletion\": 0.0, \"failureMessage\": \"\", \"exceptionClass\": \"\", \"trace\": \"\", \"outcomeType\": 4}}, \"*\")"
      ],
      "text/plain": [
       "<IPython.core.display.Javascript object>"
      ]
     },
     "metadata": {},
     "output_type": "display_data"
    },
    {
     "data": {
      "text/markdown": [
       "<span style=\"color:#33cc99\">Solution:</span> \n",
       "```python\n",
       "# Color-coded scatter plot w/ regression lines\n",
       "sns.lmplot(x=\"pricepercent\", y=\"winpercent\", hue=\"chocolate\", data=candy_data)\n",
       "\n",
       "```"
      ],
      "text/plain": [
       "Solution: \n",
       "```python\n",
       "# Color-coded scatter plot w/ regression lines\n",
       "sns.lmplot(x=\"pricepercent\", y=\"winpercent\", hue=\"chocolate\", data=candy_data)\n",
       "\n",
       "```"
      ]
     },
     "metadata": {},
     "output_type": "display_data"
    },
    {
     "data": {
      "image/png": "[encoded data removed]",
      "text/plain": [
       "<Figure size 416.375x360 with 1 Axes>"
      ]
     },
     "metadata": {
      "needs_background": "light"
     },
     "output_type": "display_data"
    }
   ],
   "source": [
    "# Lines below will give you a hint or solution code\n",
    "step_6.a.hint()\n",
    "step_6.a.solution_plot()"
   ]
  },
  {
   "cell_type": "markdown",
   "id": "feaceec2",
   "metadata": {
    "papermill": {
     "duration": 0.010948,
     "end_time": "2022-06-28T09:15:57.220090",
     "exception": false,
     "start_time": "2022-06-28T09:15:57.209142",
     "status": "completed"
    },
    "tags": []
   },
   "source": [
    "#### Part B\n",
    "\n",
    "Using the regression lines, what conclusions can you draw about the effects of chocolate and price on candy popularity?"
   ]
  },
  {
   "cell_type": "code",
   "execution_count": 20,
   "id": "1678d4aa",
   "metadata": {
    "execution": {
     "iopub.execute_input": "2022-06-28T09:15:57.245176Z",
     "iopub.status.busy": "2022-06-28T09:15:57.244791Z",
     "iopub.status.idle": "2022-06-28T09:15:57.249249Z",
     "shell.execute_reply": "2022-06-28T09:15:57.248245Z"
    },
    "papermill": {
     "duration": 0.019444,
     "end_time": "2022-06-28T09:15:57.251613",
     "exception": false,
     "start_time": "2022-06-28T09:15:57.232169",
     "status": "completed"
    },
    "tags": []
   },
   "outputs": [],
   "source": [
    "#step_6.b.hint()"
   ]
  },
  {
   "cell_type": "code",
   "execution_count": 21,
   "id": "391c99b9",
   "metadata": {
    "execution": {
     "iopub.execute_input": "2022-06-28T09:15:57.275743Z",
     "iopub.status.busy": "2022-06-28T09:15:57.274606Z",
     "iopub.status.idle": "2022-06-28T09:15:57.283230Z",
     "shell.execute_reply": "2022-06-28T09:15:57.282506Z"
    },
    "papermill": {
     "duration": 0.022388,
     "end_time": "2022-06-28T09:15:57.284975",
     "exception": false,
     "start_time": "2022-06-28T09:15:57.262587",
     "status": "completed"
    },
    "tags": []
   },
   "outputs": [
    {
     "data": {
      "application/javascript": [
       "parent.postMessage({\"jupyterEvent\": \"custom.exercise_interaction\", \"data\": {\"interactionType\": 3, \"questionType\": 4, \"questionId\": \"6.2_ThinkColorReg\", \"learnToolsVersion\": \"0.3.4\", \"valueTowardsCompletion\": 0.0, \"failureMessage\": \"\", \"exceptionClass\": \"\", \"trace\": \"\", \"outcomeType\": 4}}, \"*\")"
      ],
      "text/plain": [
       "<IPython.core.display.Javascript object>"
      ]
     },
     "metadata": {},
     "output_type": "display_data"
    },
    {
     "data": {
      "text/markdown": [
       "<span style=\"color:#33cc99\">Solution:</span> We'll begin with the regression line for chocolate candies. Since this line has a slightly positive slope, we can say that more expensive chocolate candies tend to be more popular (than relatively cheaper chocolate candies).  Likewise, since the regression line for candies without chocolate has a negative slope, we can say that if candies don't contain chocolate, they tend to be more popular when they are cheaper.  One important note, however, is that the dataset is quite small -- so we shouldn't invest too much trust in these patterns!  To inspire more confidence in the results, we should add more candies to the dataset."
      ],
      "text/plain": [
       "Solution: We'll begin with the regression line for chocolate candies. Since this line has a slightly positive slope, we can say that more expensive chocolate candies tend to be more popular (than relatively cheaper chocolate candies).  Likewise, since the regression line for candies without chocolate has a negative slope, we can say that if candies don't contain chocolate, they tend to be more popular when they are cheaper.  One important note, however, is that the dataset is quite small -- so we shouldn't invest too much trust in these patterns!  To inspire more confidence in the results, we should add more candies to the dataset."
      ]
     },
     "metadata": {},
     "output_type": "display_data"
    }
   ],
   "source": [
    "# Check your answer (Run this code cell to receive credit!)\n",
    "step_6.b.solution()"
   ]
  },
  {
   "cell_type": "markdown",
   "id": "efa01c39",
   "metadata": {
    "papermill": {
     "duration": 0.010997,
     "end_time": "2022-06-28T09:15:57.307716",
     "exception": false,
     "start_time": "2022-06-28T09:15:57.296719",
     "status": "completed"
    },
    "tags": []
   },
   "source": [
    "## Step 7: Everybody loves chocolate.\n",
    "\n",
    "#### Part A\n",
    "\n",
    "Create a categorical scatter plot to highlight the relationship between `'chocolate'` and `'winpercent'`.  Put `'chocolate'` on the (horizontal) x-axis, and `'winpercent'` on the (vertical) y-axis."
   ]
  },
  {
   "cell_type": "code",
   "execution_count": 22,
   "id": "f990089d",
   "metadata": {
    "execution": {
     "iopub.execute_input": "2022-06-28T09:15:57.332622Z",
     "iopub.status.busy": "2022-06-28T09:15:57.331937Z",
     "iopub.status.idle": "2022-06-28T09:15:57.513676Z",
     "shell.execute_reply": "2022-06-28T09:15:57.512906Z"
    },
    "papermill": {
     "duration": 0.196719,
     "end_time": "2022-06-28T09:15:57.515610",
     "exception": false,
     "start_time": "2022-06-28T09:15:57.318891",
     "status": "completed"
    },
    "tags": []
   },
   "outputs": [
    {
     "data": {
      "application/javascript": [
       "parent.postMessage({\"jupyterEvent\": \"custom.exercise_interaction\", \"data\": {\"outcomeType\": 1, \"valueTowardsCompletion\": 0.3333333333333333, \"interactionType\": 1, \"questionType\": 2, \"questionId\": \"7.1_PlotSwarm\", \"learnToolsVersion\": \"0.3.4\", \"failureMessage\": \"\", \"exceptionClass\": \"\", \"trace\": \"\"}}, \"*\")"
      ],
      "text/plain": [
       "<IPython.core.display.Javascript object>"
      ]
     },
     "metadata": {},
     "output_type": "display_data"
    },
    {
     "data": {
      "text/markdown": [
       "<span style=\"color:#33cc33\">Correct</span>"
      ],
      "text/plain": [
       "Correct"
      ]
     },
     "metadata": {},
     "output_type": "display_data"
    },
    {
     "data": {
      "image/png": "[encoded data removed]",
      "text/plain": [
       "<Figure size 432x288 with 1 Axes>"
      ]
     },
     "metadata": {
      "needs_background": "light"
     },
     "output_type": "display_data"
    }
   ],
   "source": [
    "# Scatter plot showing the relationship between 'chocolate' and 'winpercent'\n",
    "____ # Your code here\n",
    "\n",
    "sns.swarmplot(x=candy_data['chocolate'], y=candy_data['winpercent'])\n",
    "\n",
    "# Check your answer\n",
    "step_7.a.check()"
   ]
  },
  {
   "cell_type": "code",
   "execution_count": 23,
   "id": "cf33e877",
   "metadata": {
    "execution": {
     "iopub.execute_input": "2022-06-28T09:15:57.541432Z",
     "iopub.status.busy": "2022-06-28T09:15:57.540754Z",
     "iopub.status.idle": "2022-06-28T09:15:57.720516Z",
     "shell.execute_reply": "2022-06-28T09:15:57.719702Z"
    },
    "papermill": {
     "duration": 0.195581,
     "end_time": "2022-06-28T09:15:57.722993",
     "exception": false,
     "start_time": "2022-06-28T09:15:57.527412",
     "status": "completed"
    },
    "tags": []
   },
   "outputs": [
    {
     "data": {
      "application/javascript": [
       "parent.postMessage({\"jupyterEvent\": \"custom.exercise_interaction\", \"data\": {\"interactionType\": 2, \"questionType\": 2, \"questionId\": \"7.1_PlotSwarm\", \"learnToolsVersion\": \"0.3.4\", \"valueTowardsCompletion\": 0.0, \"failureMessage\": \"\", \"exceptionClass\": \"\", \"trace\": \"\", \"outcomeType\": 4}}, \"*\")"
      ],
      "text/plain": [
       "<IPython.core.display.Javascript object>"
      ]
     },
     "metadata": {},
     "output_type": "display_data"
    },
    {
     "data": {
      "text/markdown": [
       "<span style=\"color:#3366cc\">Hint:</span> Use `sns.swarmplot`, and set the variables for the x-axis and y-axis by using `x=` and `y=`, respectively."
      ],
      "text/plain": [
       "Hint: Use `sns.swarmplot`, and set the variables for the x-axis and y-axis by using `x=` and `y=`, respectively."
      ]
     },
     "metadata": {},
     "output_type": "display_data"
    },
    {
     "data": {
      "application/javascript": [
       "parent.postMessage({\"jupyterEvent\": \"custom.exercise_interaction\", \"data\": {\"interactionType\": 3, \"questionType\": 2, \"questionId\": \"7.1_PlotSwarm\", \"learnToolsVersion\": \"0.3.4\", \"valueTowardsCompletion\": 0.0, \"failureMessage\": \"\", \"exceptionClass\": \"\", \"trace\": \"\", \"outcomeType\": 4}}, \"*\")"
      ],
      "text/plain": [
       "<IPython.core.display.Javascript object>"
      ]
     },
     "metadata": {},
     "output_type": "display_data"
    },
    {
     "data": {
      "text/markdown": [
       "<span style=\"color:#33cc99\">Solution:</span> \n",
       "```python\n",
       "# Scatter plot showing the relationship between 'chocolate' and 'winpercent'\n",
       "sns.swarmplot(x=candy_data['chocolate'], y=candy_data['winpercent'])\n",
       "\n",
       "```"
      ],
      "text/plain": [
       "Solution: \n",
       "```python\n",
       "# Scatter plot showing the relationship between 'chocolate' and 'winpercent'\n",
       "sns.swarmplot(x=candy_data['chocolate'], y=candy_data['winpercent'])\n",
       "\n",
       "```"
      ]
     },
     "metadata": {},
     "output_type": "display_data"
    },
    {
     "data": {
      "image/png": "[encoded data removed]",
      "text/plain": [
       "<Figure size 432x288 with 1 Axes>"
      ]
     },
     "metadata": {
      "needs_background": "light"
     },
     "output_type": "display_data"
    }
   ],
   "source": [
    "# Lines below will give you a hint or solution code\n",
    "step_7.a.hint()\n",
    "step_7.a.solution_plot()"
   ]
  },
  {
   "cell_type": "markdown",
   "id": "bb9ce90c",
   "metadata": {
    "papermill": {
     "duration": 0.012395,
     "end_time": "2022-06-28T09:15:57.747728",
     "exception": false,
     "start_time": "2022-06-28T09:15:57.735333",
     "status": "completed"
    },
    "tags": []
   },
   "source": [
    "#### Part B\n",
    "\n",
    "You decide to dedicate a section of your report to the fact that chocolate candies tend to be more popular than candies without chocolate.  Which plot is more appropriate to tell this story: the plot from **Step 6**, or the plot from **Step 7**?"
   ]
  },
  {
   "cell_type": "code",
   "execution_count": 24,
   "id": "c52703e0",
   "metadata": {
    "execution": {
     "iopub.execute_input": "2022-06-28T09:15:57.776179Z",
     "iopub.status.busy": "2022-06-28T09:15:57.774990Z",
     "iopub.status.idle": "2022-06-28T09:15:57.780135Z",
     "shell.execute_reply": "2022-06-28T09:15:57.778826Z"
    },
    "papermill": {
     "duration": 0.021626,
     "end_time": "2022-06-28T09:15:57.782369",
     "exception": false,
     "start_time": "2022-06-28T09:15:57.760743",
     "status": "completed"
    },
    "tags": []
   },
   "outputs": [],
   "source": [
    "#step_7.b.hint()"
   ]
  },
  {
   "cell_type": "code",
   "execution_count": 25,
   "id": "b56e699f",
   "metadata": {
    "execution": {
     "iopub.execute_input": "2022-06-28T09:15:57.810097Z",
     "iopub.status.busy": "2022-06-28T09:15:57.809582Z",
     "iopub.status.idle": "2022-06-28T09:15:57.816925Z",
     "shell.execute_reply": "2022-06-28T09:15:57.815821Z"
    },
    "papermill": {
     "duration": 0.023799,
     "end_time": "2022-06-28T09:15:57.818871",
     "exception": false,
     "start_time": "2022-06-28T09:15:57.795072",
     "status": "completed"
    },
    "tags": []
   },
   "outputs": [
    {
     "data": {
      "application/javascript": [
       "parent.postMessage({\"jupyterEvent\": \"custom.exercise_interaction\", \"data\": {\"interactionType\": 3, \"questionType\": 4, \"questionId\": \"7.2_ThinkSwarm\", \"learnToolsVersion\": \"0.3.4\", \"valueTowardsCompletion\": 0.0, \"failureMessage\": \"\", \"exceptionClass\": \"\", \"trace\": \"\", \"outcomeType\": 4}}, \"*\")"
      ],
      "text/plain": [
       "<IPython.core.display.Javascript object>"
      ]
     },
     "metadata": {},
     "output_type": "display_data"
    },
    {
     "data": {
      "text/markdown": [
       "<span style=\"color:#33cc99\">Solution:</span> In this case, the categorical scatter plot from **Step 7** is the more appropriate plot. While both plots tell the desired story, the plot from **Step 6** conveys far more information that could distract from the main point."
      ],
      "text/plain": [
       "Solution: In this case, the categorical scatter plot from **Step 7** is the more appropriate plot. While both plots tell the desired story, the plot from **Step 6** conveys far more information that could distract from the main point."
      ]
     },
     "metadata": {},
     "output_type": "display_data"
    }
   ],
   "source": [
    "# Check your answer (Run this code cell to receive credit!)\n",
    "step_7.b.solution()"
   ]
  },
  {
   "cell_type": "markdown",
   "id": "00fa9a81",
   "metadata": {
    "papermill": {
     "duration": 0.01277,
     "end_time": "2022-06-28T09:15:57.844398",
     "exception": false,
     "start_time": "2022-06-28T09:15:57.831628",
     "status": "completed"
    },
    "tags": []
   },
   "source": [
    "## Keep going\n",
    "\n",
    "Explore **[histograms and density plots](https://www.kaggle.com/alexisbcook/distributions)**."
   ]
  },
  {
   "cell_type": "markdown",
   "id": "ad5d02f4",
   "metadata": {
    "papermill": {
     "duration": 0.012431,
     "end_time": "2022-06-28T09:15:57.869586",
     "exception": false,
     "start_time": "2022-06-28T09:15:57.857155",
     "status": "completed"
    },
    "tags": []
   },
   "source": [
    "---\n",
    "\n",
    "\n",
    "\n",
    "\n",
    "*Have questions or comments? Visit the [course discussion forum](https://www.kaggle.com/learn/data-visualization/discussion) to chat with other learners.*"
   ]
  }
 ],
 "metadata": {
  "kernelspec": {
   "display_name": "Python 3",
   "language": "python",
   "name": "python3"
  },
  "language_info": {
   "codemirror_mode": {
    "name": "ipython",
    "version": 3
   },
   "file_extension": ".py",
   "mimetype": "text/x-python",
   "name": "python",
   "nbconvert_exporter": "python",
   "pygments_lexer": "ipython3",
   "version": "3.7.12"
  },
  "papermill": {
   "default_parameters": {},
   "duration": 13.965194,
   "end_time": "2022-06-28T09:15:58.604357",
   "environment_variables": {},
   "exception": null,
   "input_path": "__notebook__.ipynb",
   "output_path": "__notebook__.ipynb",
   "parameters": {},
   "start_time": "2022-06-28T09:15:44.639163",
   "version": "2.3.4"
  }
 },
 "nbformat": 4,
 "nbformat_minor": 5
}
