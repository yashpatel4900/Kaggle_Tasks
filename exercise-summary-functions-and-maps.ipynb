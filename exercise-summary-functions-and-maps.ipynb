{
 "cells": [
  {
   "cell_type": "markdown",
   "id": "de61850c",
   "metadata": {
    "papermill": {
     "duration": 0.007884,
     "end_time": "2022-06-28T18:07:03.992588",
     "exception": false,
     "start_time": "2022-06-28T18:07:03.984704",
     "status": "completed"
    },
    "tags": []
   },
   "source": [
    "**This notebook is an exercise in the [Pandas](https://www.kaggle.com/learn/pandas) course.  You can reference the tutorial at [this link](https://www.kaggle.com/residentmario/summary-functions-and-maps).**\n",
    "\n",
    "---\n"
   ]
  },
  {
   "cell_type": "markdown",
   "id": "4bc6520f",
   "metadata": {
    "papermill": {
     "duration": 0.006535,
     "end_time": "2022-06-28T18:07:04.006208",
     "exception": false,
     "start_time": "2022-06-28T18:07:03.999673",
     "status": "completed"
    },
    "tags": []
   },
   "source": [
    "# Introduction\n",
    "\n",
    "Now you are ready to get a deeper understanding of your data.\n",
    "\n",
    "Run the following cell to load your data and some utility functions (including code to check your answers)."
   ]
  },
  {
   "cell_type": "code",
   "execution_count": 1,
   "id": "db7c79d6",
   "metadata": {
    "execution": {
     "iopub.execute_input": "2022-06-28T18:07:04.022180Z",
     "iopub.status.busy": "2022-06-28T18:07:04.021067Z",
     "iopub.status.idle": "2022-06-28T18:07:11.859617Z",
     "shell.execute_reply": "2022-06-28T18:07:11.858247Z"
    },
    "papermill": {
     "duration": 7.84957,
     "end_time": "2022-06-28T18:07:11.862596",
     "exception": false,
     "start_time": "2022-06-28T18:07:04.013026",
     "status": "completed"
    },
    "tags": []
   },
   "outputs": [
    {
     "name": "stdout",
     "output_type": "stream",
     "text": [
      "Setup complete.\n"
     ]
    },
    {
     "data": {
      "text/html": [
       "<div>\n",
       "<style scoped>\n",
       "    .dataframe tbody tr th:only-of-type {\n",
       "        vertical-align: middle;\n",
       "    }\n",
       "\n",
       "    .dataframe tbody tr th {\n",
       "        vertical-align: top;\n",
       "    }\n",
       "\n",
       "    .dataframe thead th {\n",
       "        text-align: right;\n",
       "    }\n",
       "</style>\n",
       "<table border=\"1\" class=\"dataframe\">\n",
       "  <thead>\n",
       "    <tr style=\"text-align: right;\">\n",
       "      <th></th>\n",
       "      <th>country</th>\n",
       "      <th>description</th>\n",
       "      <th>designation</th>\n",
       "      <th>points</th>\n",
       "      <th>price</th>\n",
       "      <th>province</th>\n",
       "      <th>region_1</th>\n",
       "      <th>region_2</th>\n",
       "      <th>taster_name</th>\n",
       "      <th>taster_twitter_handle</th>\n",
       "      <th>title</th>\n",
       "      <th>variety</th>\n",
       "      <th>winery</th>\n",
       "    </tr>\n",
       "  </thead>\n",
       "  <tbody>\n",
       "    <tr>\n",
       "      <th>0</th>\n",
       "      <td>Italy</td>\n",
       "      <td>Aromas include tropical fruit, broom, brimston...</td>\n",
       "      <td>Vulkà Bianco</td>\n",
       "      <td>87</td>\n",
       "      <td>NaN</td>\n",
       "      <td>Sicily &amp; Sardinia</td>\n",
       "      <td>Etna</td>\n",
       "      <td>NaN</td>\n",
       "      <td>Kerin O’Keefe</td>\n",
       "      <td>@kerinokeefe</td>\n",
       "      <td>Nicosia 2013 Vulkà Bianco  (Etna)</td>\n",
       "      <td>White Blend</td>\n",
       "      <td>Nicosia</td>\n",
       "    </tr>\n",
       "    <tr>\n",
       "      <th>1</th>\n",
       "      <td>Portugal</td>\n",
       "      <td>This is ripe and fruity, a wine that is smooth...</td>\n",
       "      <td>Avidagos</td>\n",
       "      <td>87</td>\n",
       "      <td>15.0</td>\n",
       "      <td>Douro</td>\n",
       "      <td>NaN</td>\n",
       "      <td>NaN</td>\n",
       "      <td>Roger Voss</td>\n",
       "      <td>@vossroger</td>\n",
       "      <td>Quinta dos Avidagos 2011 Avidagos Red (Douro)</td>\n",
       "      <td>Portuguese Red</td>\n",
       "      <td>Quinta dos Avidagos</td>\n",
       "    </tr>\n",
       "    <tr>\n",
       "      <th>2</th>\n",
       "      <td>US</td>\n",
       "      <td>Tart and snappy, the flavors of lime flesh and...</td>\n",
       "      <td>NaN</td>\n",
       "      <td>87</td>\n",
       "      <td>14.0</td>\n",
       "      <td>Oregon</td>\n",
       "      <td>Willamette Valley</td>\n",
       "      <td>Willamette Valley</td>\n",
       "      <td>Paul Gregutt</td>\n",
       "      <td>@paulgwine</td>\n",
       "      <td>Rainstorm 2013 Pinot Gris (Willamette Valley)</td>\n",
       "      <td>Pinot Gris</td>\n",
       "      <td>Rainstorm</td>\n",
       "    </tr>\n",
       "    <tr>\n",
       "      <th>3</th>\n",
       "      <td>US</td>\n",
       "      <td>Pineapple rind, lemon pith and orange blossom ...</td>\n",
       "      <td>Reserve Late Harvest</td>\n",
       "      <td>87</td>\n",
       "      <td>13.0</td>\n",
       "      <td>Michigan</td>\n",
       "      <td>Lake Michigan Shore</td>\n",
       "      <td>NaN</td>\n",
       "      <td>Alexander Peartree</td>\n",
       "      <td>NaN</td>\n",
       "      <td>St. Julian 2013 Reserve Late Harvest Riesling ...</td>\n",
       "      <td>Riesling</td>\n",
       "      <td>St. Julian</td>\n",
       "    </tr>\n",
       "    <tr>\n",
       "      <th>4</th>\n",
       "      <td>US</td>\n",
       "      <td>Much like the regular bottling from 2012, this...</td>\n",
       "      <td>Vintner's Reserve Wild Child Block</td>\n",
       "      <td>87</td>\n",
       "      <td>65.0</td>\n",
       "      <td>Oregon</td>\n",
       "      <td>Willamette Valley</td>\n",
       "      <td>Willamette Valley</td>\n",
       "      <td>Paul Gregutt</td>\n",
       "      <td>@paulgwine</td>\n",
       "      <td>Sweet Cheeks 2012 Vintner's Reserve Wild Child...</td>\n",
       "      <td>Pinot Noir</td>\n",
       "      <td>Sweet Cheeks</td>\n",
       "    </tr>\n",
       "  </tbody>\n",
       "</table>\n",
       "</div>"
      ],
      "text/plain": [
       "    country                                        description  \\\n",
       "0     Italy  Aromas include tropical fruit, broom, brimston...   \n",
       "1  Portugal  This is ripe and fruity, a wine that is smooth...   \n",
       "2        US  Tart and snappy, the flavors of lime flesh and...   \n",
       "3        US  Pineapple rind, lemon pith and orange blossom ...   \n",
       "4        US  Much like the regular bottling from 2012, this...   \n",
       "\n",
       "                          designation  points  price           province  \\\n",
       "0                        Vulkà Bianco      87    NaN  Sicily & Sardinia   \n",
       "1                            Avidagos      87   15.0              Douro   \n",
       "2                                 NaN      87   14.0             Oregon   \n",
       "3                Reserve Late Harvest      87   13.0           Michigan   \n",
       "4  Vintner's Reserve Wild Child Block      87   65.0             Oregon   \n",
       "\n",
       "              region_1           region_2         taster_name  \\\n",
       "0                 Etna                NaN       Kerin O’Keefe   \n",
       "1                  NaN                NaN          Roger Voss   \n",
       "2    Willamette Valley  Willamette Valley        Paul Gregutt   \n",
       "3  Lake Michigan Shore                NaN  Alexander Peartree   \n",
       "4    Willamette Valley  Willamette Valley        Paul Gregutt   \n",
       "\n",
       "  taster_twitter_handle                                              title  \\\n",
       "0          @kerinokeefe                  Nicosia 2013 Vulkà Bianco  (Etna)   \n",
       "1            @vossroger      Quinta dos Avidagos 2011 Avidagos Red (Douro)   \n",
       "2           @paulgwine       Rainstorm 2013 Pinot Gris (Willamette Valley)   \n",
       "3                   NaN  St. Julian 2013 Reserve Late Harvest Riesling ...   \n",
       "4           @paulgwine   Sweet Cheeks 2012 Vintner's Reserve Wild Child...   \n",
       "\n",
       "          variety               winery  \n",
       "0     White Blend              Nicosia  \n",
       "1  Portuguese Red  Quinta dos Avidagos  \n",
       "2      Pinot Gris            Rainstorm  \n",
       "3        Riesling           St. Julian  \n",
       "4      Pinot Noir         Sweet Cheeks  "
      ]
     },
     "execution_count": 1,
     "metadata": {},
     "output_type": "execute_result"
    }
   ],
   "source": [
    "import pandas as pd\n",
    "pd.set_option(\"display.max_rows\", 5)\n",
    "reviews = pd.read_csv(\"../input/wine-reviews/winemag-data-130k-v2.csv\", index_col=0)\n",
    "\n",
    "from learntools.core import binder; binder.bind(globals())\n",
    "from learntools.pandas.summary_functions_and_maps import *\n",
    "print(\"Setup complete.\")\n",
    "\n",
    "reviews.head()"
   ]
  },
  {
   "cell_type": "markdown",
   "id": "a11e7655",
   "metadata": {
    "papermill": {
     "duration": 0.007069,
     "end_time": "2022-06-28T18:07:11.877124",
     "exception": false,
     "start_time": "2022-06-28T18:07:11.870055",
     "status": "completed"
    },
    "tags": []
   },
   "source": [
    "# Exercises"
   ]
  },
  {
   "cell_type": "markdown",
   "id": "74455857",
   "metadata": {
    "papermill": {
     "duration": 0.007368,
     "end_time": "2022-06-28T18:07:11.891924",
     "exception": false,
     "start_time": "2022-06-28T18:07:11.884556",
     "status": "completed"
    },
    "tags": []
   },
   "source": [
    "## 1.\n",
    "\n",
    "What is the median of the `points` column in the `reviews` DataFrame?"
   ]
  },
  {
   "cell_type": "code",
   "execution_count": 2,
   "id": "202872ff",
   "metadata": {
    "execution": {
     "iopub.execute_input": "2022-06-28T18:07:11.908176Z",
     "iopub.status.busy": "2022-06-28T18:07:11.907738Z",
     "iopub.status.idle": "2022-06-28T18:07:11.919086Z",
     "shell.execute_reply": "2022-06-28T18:07:11.917997Z"
    },
    "papermill": {
     "duration": 0.02199,
     "end_time": "2022-06-28T18:07:11.921129",
     "exception": false,
     "start_time": "2022-06-28T18:07:11.899139",
     "status": "completed"
    },
    "tags": []
   },
   "outputs": [
    {
     "data": {
      "application/javascript": [
       "parent.postMessage({\"jupyterEvent\": \"custom.exercise_interaction\", \"data\": {\"outcomeType\": 1, \"valueTowardsCompletion\": 0.14285714285714285, \"interactionType\": 1, \"questionType\": 1, \"questionId\": \"1_MedianPoints\", \"learnToolsVersion\": \"0.3.4\", \"failureMessage\": \"\", \"exceptionClass\": \"\", \"trace\": \"\"}}, \"*\")"
      ],
      "text/plain": [
       "<IPython.core.display.Javascript object>"
      ]
     },
     "metadata": {},
     "output_type": "display_data"
    },
    {
     "data": {
      "text/markdown": [
       "<span style=\"color:#33cc33\">Correct</span>"
      ],
      "text/plain": [
       "Correct"
      ]
     },
     "metadata": {},
     "output_type": "display_data"
    }
   ],
   "source": [
    "median_points = reviews.points.median()\n",
    "\n",
    "# Check your answer\n",
    "q1.check()"
   ]
  },
  {
   "cell_type": "code",
   "execution_count": 3,
   "id": "ab77cd49",
   "metadata": {
    "execution": {
     "iopub.execute_input": "2022-06-28T18:07:11.938835Z",
     "iopub.status.busy": "2022-06-28T18:07:11.938028Z",
     "iopub.status.idle": "2022-06-28T18:07:11.950537Z",
     "shell.execute_reply": "2022-06-28T18:07:11.949757Z"
    },
    "papermill": {
     "duration": 0.023601,
     "end_time": "2022-06-28T18:07:11.952541",
     "exception": false,
     "start_time": "2022-06-28T18:07:11.928940",
     "status": "completed"
    },
    "tags": []
   },
   "outputs": [
    {
     "data": {
      "application/javascript": [
       "parent.postMessage({\"jupyterEvent\": \"custom.exercise_interaction\", \"data\": {\"interactionType\": 2, \"questionType\": 1, \"questionId\": \"1_MedianPoints\", \"learnToolsVersion\": \"0.3.4\", \"valueTowardsCompletion\": 0.0, \"failureMessage\": \"\", \"exceptionClass\": \"\", \"trace\": \"\", \"outcomeType\": 4}}, \"*\")"
      ],
      "text/plain": [
       "<IPython.core.display.Javascript object>"
      ]
     },
     "metadata": {},
     "output_type": "display_data"
    },
    {
     "data": {
      "text/markdown": [
       "<span style=\"color:#3366cc\">Hint:</span> Use the `median` function (a built-in `pandas` function, like the `mean` function or the `unique` function)."
      ],
      "text/plain": [
       "Hint: Use the `median` function (a built-in `pandas` function, like the `mean` function or the `unique` function)."
      ]
     },
     "metadata": {},
     "output_type": "display_data"
    },
    {
     "data": {
      "application/javascript": [
       "parent.postMessage({\"jupyterEvent\": \"custom.exercise_interaction\", \"data\": {\"interactionType\": 3, \"questionType\": 1, \"questionId\": \"1_MedianPoints\", \"learnToolsVersion\": \"0.3.4\", \"valueTowardsCompletion\": 0.0, \"failureMessage\": \"\", \"exceptionClass\": \"\", \"trace\": \"\", \"outcomeType\": 4}}, \"*\")"
      ],
      "text/plain": [
       "<IPython.core.display.Javascript object>"
      ]
     },
     "metadata": {},
     "output_type": "display_data"
    },
    {
     "data": {
      "text/markdown": [
       "<span style=\"color:#33cc99\">Solution:</span> \n",
       "```python\n",
       "median_points = reviews.points.median()\n",
       "```"
      ],
      "text/plain": [
       "Solution: \n",
       "```python\n",
       "median_points = reviews.points.median()\n",
       "```"
      ]
     },
     "metadata": {},
     "output_type": "display_data"
    }
   ],
   "source": [
    "q1.hint()\n",
    "q1.solution()"
   ]
  },
  {
   "cell_type": "markdown",
   "id": "e511658c",
   "metadata": {
    "papermill": {
     "duration": 0.007696,
     "end_time": "2022-06-28T18:07:11.968336",
     "exception": false,
     "start_time": "2022-06-28T18:07:11.960640",
     "status": "completed"
    },
    "tags": []
   },
   "source": [
    "## 2. \n",
    "What countries are represented in the dataset? (Your answer should not include any duplicates.)"
   ]
  },
  {
   "cell_type": "code",
   "execution_count": 4,
   "id": "8f4596f2",
   "metadata": {
    "execution": {
     "iopub.execute_input": "2022-06-28T18:07:11.986987Z",
     "iopub.status.busy": "2022-06-28T18:07:11.986600Z",
     "iopub.status.idle": "2022-06-28T18:07:12.008858Z",
     "shell.execute_reply": "2022-06-28T18:07:12.007578Z"
    },
    "papermill": {
     "duration": 0.034337,
     "end_time": "2022-06-28T18:07:12.011264",
     "exception": false,
     "start_time": "2022-06-28T18:07:11.976927",
     "status": "completed"
    },
    "tags": []
   },
   "outputs": [
    {
     "data": {
      "application/javascript": [
       "parent.postMessage({\"jupyterEvent\": \"custom.exercise_interaction\", \"data\": {\"outcomeType\": 1, \"valueTowardsCompletion\": 0.14285714285714285, \"interactionType\": 1, \"questionType\": 2, \"questionId\": \"2_UniqueCountries\", \"learnToolsVersion\": \"0.3.4\", \"failureMessage\": \"\", \"exceptionClass\": \"\", \"trace\": \"\"}}, \"*\")"
      ],
      "text/plain": [
       "<IPython.core.display.Javascript object>"
      ]
     },
     "metadata": {},
     "output_type": "display_data"
    },
    {
     "data": {
      "text/markdown": [
       "<span style=\"color:#33cc33\">Correct</span>"
      ],
      "text/plain": [
       "Correct"
      ]
     },
     "metadata": {},
     "output_type": "display_data"
    }
   ],
   "source": [
    "countries = reviews.country.unique()\n",
    "\n",
    "# Check your answer\n",
    "q2.check()"
   ]
  },
  {
   "cell_type": "code",
   "execution_count": 5,
   "id": "da63c349",
   "metadata": {
    "execution": {
     "iopub.execute_input": "2022-06-28T18:07:12.031018Z",
     "iopub.status.busy": "2022-06-28T18:07:12.029669Z",
     "iopub.status.idle": "2022-06-28T18:07:12.043760Z",
     "shell.execute_reply": "2022-06-28T18:07:12.042588Z"
    },
    "papermill": {
     "duration": 0.026161,
     "end_time": "2022-06-28T18:07:12.046108",
     "exception": false,
     "start_time": "2022-06-28T18:07:12.019947",
     "status": "completed"
    },
    "tags": []
   },
   "outputs": [
    {
     "data": {
      "application/javascript": [
       "parent.postMessage({\"jupyterEvent\": \"custom.exercise_interaction\", \"data\": {\"interactionType\": 2, \"questionType\": 2, \"questionId\": \"2_UniqueCountries\", \"learnToolsVersion\": \"0.3.4\", \"valueTowardsCompletion\": 0.0, \"failureMessage\": \"\", \"exceptionClass\": \"\", \"trace\": \"\", \"outcomeType\": 4}}, \"*\")"
      ],
      "text/plain": [
       "<IPython.core.display.Javascript object>"
      ]
     },
     "metadata": {},
     "output_type": "display_data"
    },
    {
     "data": {
      "text/markdown": [
       "<span style=\"color:#3366cc\">Hint:</span> Use the `unique` function to get a list of unique entries in a column."
      ],
      "text/plain": [
       "Hint: Use the `unique` function to get a list of unique entries in a column."
      ]
     },
     "metadata": {},
     "output_type": "display_data"
    },
    {
     "data": {
      "application/javascript": [
       "parent.postMessage({\"jupyterEvent\": \"custom.exercise_interaction\", \"data\": {\"interactionType\": 3, \"questionType\": 2, \"questionId\": \"2_UniqueCountries\", \"learnToolsVersion\": \"0.3.4\", \"valueTowardsCompletion\": 0.0, \"failureMessage\": \"\", \"exceptionClass\": \"\", \"trace\": \"\", \"outcomeType\": 4}}, \"*\")"
      ],
      "text/plain": [
       "<IPython.core.display.Javascript object>"
      ]
     },
     "metadata": {},
     "output_type": "display_data"
    },
    {
     "data": {
      "text/markdown": [
       "<span style=\"color:#33cc99\">Solution:</span> \n",
       "```python\n",
       "countries = reviews.country.unique()\n",
       "```"
      ],
      "text/plain": [
       "Solution: \n",
       "```python\n",
       "countries = reviews.country.unique()\n",
       "```"
      ]
     },
     "metadata": {},
     "output_type": "display_data"
    }
   ],
   "source": [
    "q2.hint()\n",
    "q2.solution()"
   ]
  },
  {
   "cell_type": "markdown",
   "id": "09812bf7",
   "metadata": {
    "papermill": {
     "duration": 0.008891,
     "end_time": "2022-06-28T18:07:12.063932",
     "exception": false,
     "start_time": "2022-06-28T18:07:12.055041",
     "status": "completed"
    },
    "tags": []
   },
   "source": [
    "## 3.\n",
    "How often does each country appear in the dataset? Create a Series `reviews_per_country` mapping countries to the count of reviews of wines from that country."
   ]
  },
  {
   "cell_type": "code",
   "execution_count": 6,
   "id": "f5bf9bd1",
   "metadata": {
    "execution": {
     "iopub.execute_input": "2022-06-28T18:07:12.083502Z",
     "iopub.status.busy": "2022-06-28T18:07:12.083107Z",
     "iopub.status.idle": "2022-06-28T18:07:12.111461Z",
     "shell.execute_reply": "2022-06-28T18:07:12.110345Z"
    },
    "papermill": {
     "duration": 0.040823,
     "end_time": "2022-06-28T18:07:12.113729",
     "exception": false,
     "start_time": "2022-06-28T18:07:12.072906",
     "status": "completed"
    },
    "tags": []
   },
   "outputs": [
    {
     "data": {
      "application/javascript": [
       "parent.postMessage({\"jupyterEvent\": \"custom.exercise_interaction\", \"data\": {\"outcomeType\": 1, \"valueTowardsCompletion\": 0.14285714285714285, \"interactionType\": 1, \"questionType\": 1, \"questionId\": \"3_ReviewsPerCountry\", \"learnToolsVersion\": \"0.3.4\", \"failureMessage\": \"\", \"exceptionClass\": \"\", \"trace\": \"\"}}, \"*\")"
      ],
      "text/plain": [
       "<IPython.core.display.Javascript object>"
      ]
     },
     "metadata": {},
     "output_type": "display_data"
    },
    {
     "data": {
      "text/markdown": [
       "<span style=\"color:#33cc33\">Correct</span>"
      ],
      "text/plain": [
       "Correct"
      ]
     },
     "metadata": {},
     "output_type": "display_data"
    }
   ],
   "source": [
    "reviews_per_country = reviews.country.value_counts()\n",
    "\n",
    "# Check your answer\n",
    "q3.check()"
   ]
  },
  {
   "cell_type": "code",
   "execution_count": 7,
   "id": "b2f823a7",
   "metadata": {
    "execution": {
     "iopub.execute_input": "2022-06-28T18:07:12.134460Z",
     "iopub.status.busy": "2022-06-28T18:07:12.134071Z",
     "iopub.status.idle": "2022-06-28T18:07:12.146708Z",
     "shell.execute_reply": "2022-06-28T18:07:12.145637Z"
    },
    "papermill": {
     "duration": 0.025468,
     "end_time": "2022-06-28T18:07:12.149024",
     "exception": false,
     "start_time": "2022-06-28T18:07:12.123556",
     "status": "completed"
    },
    "tags": []
   },
   "outputs": [
    {
     "data": {
      "application/javascript": [
       "parent.postMessage({\"jupyterEvent\": \"custom.exercise_interaction\", \"data\": {\"interactionType\": 2, \"questionType\": 1, \"questionId\": \"3_ReviewsPerCountry\", \"learnToolsVersion\": \"0.3.4\", \"valueTowardsCompletion\": 0.0, \"failureMessage\": \"\", \"exceptionClass\": \"\", \"trace\": \"\", \"outcomeType\": 4}}, \"*\")"
      ],
      "text/plain": [
       "<IPython.core.display.Javascript object>"
      ]
     },
     "metadata": {},
     "output_type": "display_data"
    },
    {
     "data": {
      "text/markdown": [
       "<span style=\"color:#3366cc\">Hint:</span> To see a list of unique values and how often they occur in a Series, use the `value_counts` method."
      ],
      "text/plain": [
       "Hint: To see a list of unique values and how often they occur in a Series, use the `value_counts` method."
      ]
     },
     "metadata": {},
     "output_type": "display_data"
    },
    {
     "data": {
      "application/javascript": [
       "parent.postMessage({\"jupyterEvent\": \"custom.exercise_interaction\", \"data\": {\"interactionType\": 3, \"questionType\": 1, \"questionId\": \"3_ReviewsPerCountry\", \"learnToolsVersion\": \"0.3.4\", \"valueTowardsCompletion\": 0.0, \"failureMessage\": \"\", \"exceptionClass\": \"\", \"trace\": \"\", \"outcomeType\": 4}}, \"*\")"
      ],
      "text/plain": [
       "<IPython.core.display.Javascript object>"
      ]
     },
     "metadata": {},
     "output_type": "display_data"
    },
    {
     "data": {
      "text/markdown": [
       "<span style=\"color:#33cc99\">Solution:</span> \n",
       "```python\n",
       "reviews_per_country = reviews.country.value_counts()\n",
       "```"
      ],
      "text/plain": [
       "Solution: \n",
       "```python\n",
       "reviews_per_country = reviews.country.value_counts()\n",
       "```"
      ]
     },
     "metadata": {},
     "output_type": "display_data"
    }
   ],
   "source": [
    "q3.hint()\n",
    "q3.solution()"
   ]
  },
  {
   "cell_type": "markdown",
   "id": "ba064c54",
   "metadata": {
    "papermill": {
     "duration": 0.009414,
     "end_time": "2022-06-28T18:07:12.168140",
     "exception": false,
     "start_time": "2022-06-28T18:07:12.158726",
     "status": "completed"
    },
    "tags": []
   },
   "source": [
    "## 4.\n",
    "Create variable `centered_price` containing a version of the `price` column with the mean price subtracted.\n",
    "\n",
    "(Note: this 'centering' transformation is a common preprocessing step before applying various machine learning algorithms.) "
   ]
  },
  {
   "cell_type": "code",
   "execution_count": 8,
   "id": "1af3595c",
   "metadata": {
    "execution": {
     "iopub.execute_input": "2022-06-28T18:07:12.189219Z",
     "iopub.status.busy": "2022-06-28T18:07:12.188812Z",
     "iopub.status.idle": "2022-06-28T18:07:12.200916Z",
     "shell.execute_reply": "2022-06-28T18:07:12.199773Z"
    },
    "papermill": {
     "duration": 0.025549,
     "end_time": "2022-06-28T18:07:12.203413",
     "exception": false,
     "start_time": "2022-06-28T18:07:12.177864",
     "status": "completed"
    },
    "tags": []
   },
   "outputs": [
    {
     "data": {
      "application/javascript": [
       "parent.postMessage({\"jupyterEvent\": \"custom.exercise_interaction\", \"data\": {\"outcomeType\": 1, \"valueTowardsCompletion\": 0.14285714285714285, \"interactionType\": 1, \"questionType\": 1, \"questionId\": \"4_CenteredPrice\", \"learnToolsVersion\": \"0.3.4\", \"failureMessage\": \"\", \"exceptionClass\": \"\", \"trace\": \"\"}}, \"*\")"
      ],
      "text/plain": [
       "<IPython.core.display.Javascript object>"
      ]
     },
     "metadata": {},
     "output_type": "display_data"
    },
    {
     "data": {
      "text/markdown": [
       "<span style=\"color:#33cc33\">Correct</span>"
      ],
      "text/plain": [
       "Correct"
      ]
     },
     "metadata": {},
     "output_type": "display_data"
    }
   ],
   "source": [
    "centered_price = reviews.price - reviews.price.mean()\n",
    "\n",
    "# Check your answer\n",
    "q4.check()"
   ]
  },
  {
   "cell_type": "code",
   "execution_count": 9,
   "id": "f23fb03c",
   "metadata": {
    "execution": {
     "iopub.execute_input": "2022-06-28T18:07:12.225039Z",
     "iopub.status.busy": "2022-06-28T18:07:12.224630Z",
     "iopub.status.idle": "2022-06-28T18:07:12.237120Z",
     "shell.execute_reply": "2022-06-28T18:07:12.236349Z"
    },
    "papermill": {
     "duration": 0.025938,
     "end_time": "2022-06-28T18:07:12.239262",
     "exception": false,
     "start_time": "2022-06-28T18:07:12.213324",
     "status": "completed"
    },
    "tags": []
   },
   "outputs": [
    {
     "data": {
      "application/javascript": [
       "parent.postMessage({\"jupyterEvent\": \"custom.exercise_interaction\", \"data\": {\"interactionType\": 2, \"questionType\": 1, \"questionId\": \"4_CenteredPrice\", \"learnToolsVersion\": \"0.3.4\", \"valueTowardsCompletion\": 0.0, \"failureMessage\": \"\", \"exceptionClass\": \"\", \"trace\": \"\", \"outcomeType\": 4}}, \"*\")"
      ],
      "text/plain": [
       "<IPython.core.display.Javascript object>"
      ]
     },
     "metadata": {},
     "output_type": "display_data"
    },
    {
     "data": {
      "text/markdown": [
       "<span style=\"color:#3366cc\">Hint:</span> To get the mean of a column in a Pandas DataFrame, use the `mean` function."
      ],
      "text/plain": [
       "Hint: To get the mean of a column in a Pandas DataFrame, use the `mean` function."
      ]
     },
     "metadata": {},
     "output_type": "display_data"
    },
    {
     "data": {
      "application/javascript": [
       "parent.postMessage({\"jupyterEvent\": \"custom.exercise_interaction\", \"data\": {\"interactionType\": 3, \"questionType\": 1, \"questionId\": \"4_CenteredPrice\", \"learnToolsVersion\": \"0.3.4\", \"valueTowardsCompletion\": 0.0, \"failureMessage\": \"\", \"exceptionClass\": \"\", \"trace\": \"\", \"outcomeType\": 4}}, \"*\")"
      ],
      "text/plain": [
       "<IPython.core.display.Javascript object>"
      ]
     },
     "metadata": {},
     "output_type": "display_data"
    },
    {
     "data": {
      "text/markdown": [
       "<span style=\"color:#33cc99\">Solution:</span> \n",
       "```python\n",
       "centered_price = reviews.price - reviews.price.mean()\n",
       "```"
      ],
      "text/plain": [
       "Solution: \n",
       "```python\n",
       "centered_price = reviews.price - reviews.price.mean()\n",
       "```"
      ]
     },
     "metadata": {},
     "output_type": "display_data"
    }
   ],
   "source": [
    "q4.hint()\n",
    "q4.solution()"
   ]
  },
  {
   "cell_type": "markdown",
   "id": "f99ba3a3",
   "metadata": {
    "papermill": {
     "duration": 0.010158,
     "end_time": "2022-06-28T18:07:12.260103",
     "exception": false,
     "start_time": "2022-06-28T18:07:12.249945",
     "status": "completed"
    },
    "tags": []
   },
   "source": [
    "## 5.\n",
    "I'm an economical wine buyer. Which wine is the \"best bargain\"? Create a variable `bargain_wine` with the title of the wine with the highest points-to-price ratio in the dataset."
   ]
  },
  {
   "cell_type": "code",
   "execution_count": 10,
   "id": "ceeda686",
   "metadata": {
    "execution": {
     "iopub.execute_input": "2022-06-28T18:07:12.283486Z",
     "iopub.status.busy": "2022-06-28T18:07:12.283089Z",
     "iopub.status.idle": "2022-06-28T18:07:12.297067Z",
     "shell.execute_reply": "2022-06-28T18:07:12.296288Z"
    },
    "papermill": {
     "duration": 0.028542,
     "end_time": "2022-06-28T18:07:12.299083",
     "exception": false,
     "start_time": "2022-06-28T18:07:12.270541",
     "status": "completed"
    },
    "tags": []
   },
   "outputs": [
    {
     "name": "stdout",
     "output_type": "stream",
     "text": [
      "64590\n",
      "Bandit NV Merlot (California)\n"
     ]
    },
    {
     "data": {
      "application/javascript": [
       "parent.postMessage({\"jupyterEvent\": \"custom.exercise_interaction\", \"data\": {\"outcomeType\": 1, \"valueTowardsCompletion\": 0.14285714285714285, \"interactionType\": 1, \"questionType\": 2, \"questionId\": \"5_BargainWine\", \"learnToolsVersion\": \"0.3.4\", \"failureMessage\": \"\", \"exceptionClass\": \"\", \"trace\": \"\"}}, \"*\")"
      ],
      "text/plain": [
       "<IPython.core.display.Javascript object>"
      ]
     },
     "metadata": {},
     "output_type": "display_data"
    },
    {
     "data": {
      "text/markdown": [
       "<span style=\"color:#33cc33\">Correct</span>"
      ],
      "text/plain": [
       "Correct"
      ]
     },
     "metadata": {},
     "output_type": "display_data"
    }
   ],
   "source": [
    "bargain_idx = (reviews.points / reviews.price).idxmax()\n",
    "print(bargain_idx)\n",
    "bargain_wine = reviews.loc[bargain_idx, 'title']\n",
    "print(bargain_wine)\n",
    "# Check your answer\n",
    "q5.check()"
   ]
  },
  {
   "cell_type": "code",
   "execution_count": 11,
   "id": "679dde9d",
   "metadata": {
    "execution": {
     "iopub.execute_input": "2022-06-28T18:07:12.322580Z",
     "iopub.status.busy": "2022-06-28T18:07:12.321901Z",
     "iopub.status.idle": "2022-06-28T18:07:12.331973Z",
     "shell.execute_reply": "2022-06-28T18:07:12.331220Z"
    },
    "papermill": {
     "duration": 0.024118,
     "end_time": "2022-06-28T18:07:12.333955",
     "exception": false,
     "start_time": "2022-06-28T18:07:12.309837",
     "status": "completed"
    },
    "tags": []
   },
   "outputs": [
    {
     "data": {
      "application/javascript": [
       "parent.postMessage({\"jupyterEvent\": \"custom.exercise_interaction\", \"data\": {\"interactionType\": 2, \"questionType\": 2, \"questionId\": \"5_BargainWine\", \"learnToolsVersion\": \"0.3.4\", \"valueTowardsCompletion\": 0.0, \"failureMessage\": \"\", \"exceptionClass\": \"\", \"trace\": \"\", \"outcomeType\": 4}}, \"*\")"
      ],
      "text/plain": [
       "<IPython.core.display.Javascript object>"
      ]
     },
     "metadata": {},
     "output_type": "display_data"
    },
    {
     "data": {
      "text/markdown": [
       "<span style=\"color:#3366cc\">Hint:</span> The `idxmax` method may be useful here."
      ],
      "text/plain": [
       "Hint: The `idxmax` method may be useful here."
      ]
     },
     "metadata": {},
     "output_type": "display_data"
    },
    {
     "data": {
      "application/javascript": [
       "parent.postMessage({\"jupyterEvent\": \"custom.exercise_interaction\", \"data\": {\"interactionType\": 3, \"questionType\": 2, \"questionId\": \"5_BargainWine\", \"learnToolsVersion\": \"0.3.4\", \"valueTowardsCompletion\": 0.0, \"failureMessage\": \"\", \"exceptionClass\": \"\", \"trace\": \"\", \"outcomeType\": 4}}, \"*\")"
      ],
      "text/plain": [
       "<IPython.core.display.Javascript object>"
      ]
     },
     "metadata": {},
     "output_type": "display_data"
    },
    {
     "data": {
      "text/markdown": [
       "<span style=\"color:#33cc99\">Solution:</span> \n",
       "```python\n",
       "bargain_idx = (reviews.points / reviews.price).idxmax()\n",
       "bargain_wine = reviews.loc[bargain_idx, 'title']\n",
       "```"
      ],
      "text/plain": [
       "Solution: \n",
       "```python\n",
       "bargain_idx = (reviews.points / reviews.price).idxmax()\n",
       "bargain_wine = reviews.loc[bargain_idx, 'title']\n",
       "```"
      ]
     },
     "metadata": {},
     "output_type": "display_data"
    }
   ],
   "source": [
    "q5.hint()\n",
    "q5.solution()"
   ]
  },
  {
   "cell_type": "markdown",
   "id": "0df5a8ed",
   "metadata": {
    "papermill": {
     "duration": 0.010919,
     "end_time": "2022-06-28T18:07:12.356052",
     "exception": false,
     "start_time": "2022-06-28T18:07:12.345133",
     "status": "completed"
    },
    "tags": []
   },
   "source": [
    "## 6.\n",
    "There are only so many words you can use when describing a bottle of wine. Is a wine more likely to be \"tropical\" or \"fruity\"? Create a Series `descriptor_counts` counting how many times each of these two words appears in the `description` column in the dataset. (For simplicity, let's ignore the capitalized versions of these words.)"
   ]
  },
  {
   "cell_type": "raw",
   "id": "b9a1ea24",
   "metadata": {
    "execution": {
     "iopub.execute_input": "2022-06-28T18:05:10.246939Z",
     "iopub.status.busy": "2022-06-28T18:05:10.246446Z",
     "iopub.status.idle": "2022-06-28T18:05:10.421960Z",
     "shell.execute_reply": "2022-06-28T18:05:10.420619Z",
     "shell.execute_reply.started": "2022-06-28T18:05:10.246900Z"
    },
    "papermill": {
     "duration": 0.010841,
     "end_time": "2022-06-28T18:07:12.378059",
     "exception": false,
     "start_time": "2022-06-28T18:07:12.367218",
     "status": "completed"
    },
    "tags": []
   },
   "source": [
    "n_trop = reviews.description.map(lambda desc: \"tropical\" in desc).sum()\n",
    "n_fruity = reviews.description.map(lambda desc: \"fruity\" in desc).sum()\n",
    "descriptor_counts = pd.Series([n_trop, n_fruity], index=['tropical', 'fruity'])\n",
    "\n",
    "# Check your answer\n",
    "q6.check()"
   ]
  },
  {
   "cell_type": "code",
   "execution_count": 12,
   "id": "a8165df7",
   "metadata": {
    "execution": {
     "iopub.execute_input": "2022-06-28T18:07:12.402668Z",
     "iopub.status.busy": "2022-06-28T18:07:12.401870Z",
     "iopub.status.idle": "2022-06-28T18:07:12.415629Z",
     "shell.execute_reply": "2022-06-28T18:07:12.414800Z"
    },
    "papermill": {
     "duration": 0.028846,
     "end_time": "2022-06-28T18:07:12.418030",
     "exception": false,
     "start_time": "2022-06-28T18:07:12.389184",
     "status": "completed"
    },
    "tags": []
   },
   "outputs": [
    {
     "data": {
      "application/javascript": [
       "parent.postMessage({\"jupyterEvent\": \"custom.exercise_interaction\", \"data\": {\"interactionType\": 2, \"questionType\": 1, \"questionId\": \"6_DescriptorCounts\", \"learnToolsVersion\": \"0.3.4\", \"valueTowardsCompletion\": 0.0, \"failureMessage\": \"\", \"exceptionClass\": \"\", \"trace\": \"\", \"outcomeType\": 4}}, \"*\")"
      ],
      "text/plain": [
       "<IPython.core.display.Javascript object>"
      ]
     },
     "metadata": {},
     "output_type": "display_data"
    },
    {
     "data": {
      "text/markdown": [
       "<span style=\"color:#3366cc\">Hint:</span> Use a map to check each description for the string `tropical`, then count up the number of times this is `True`. Repeat this for `fruity`. Finally, create a `Series` combining the two values."
      ],
      "text/plain": [
       "Hint: Use a map to check each description for the string `tropical`, then count up the number of times this is `True`. Repeat this for `fruity`. Finally, create a `Series` combining the two values."
      ]
     },
     "metadata": {},
     "output_type": "display_data"
    },
    {
     "data": {
      "application/javascript": [
       "parent.postMessage({\"jupyterEvent\": \"custom.exercise_interaction\", \"data\": {\"interactionType\": 3, \"questionType\": 1, \"questionId\": \"6_DescriptorCounts\", \"learnToolsVersion\": \"0.3.4\", \"valueTowardsCompletion\": 0.0, \"failureMessage\": \"\", \"exceptionClass\": \"\", \"trace\": \"\", \"outcomeType\": 4}}, \"*\")"
      ],
      "text/plain": [
       "<IPython.core.display.Javascript object>"
      ]
     },
     "metadata": {},
     "output_type": "display_data"
    },
    {
     "data": {
      "text/markdown": [
       "<span style=\"color:#33cc99\">Solution:</span> \n",
       "```python\n",
       "n_trop = reviews.description.map(lambda desc: \"tropical\" in desc).sum()\n",
       "n_fruity = reviews.description.map(lambda desc: \"fruity\" in desc).sum()\n",
       "descriptor_counts = pd.Series([n_trop, n_fruity], index=['tropical', 'fruity'])\n",
       "```"
      ],
      "text/plain": [
       "Solution: \n",
       "```python\n",
       "n_trop = reviews.description.map(lambda desc: \"tropical\" in desc).sum()\n",
       "n_fruity = reviews.description.map(lambda desc: \"fruity\" in desc).sum()\n",
       "descriptor_counts = pd.Series([n_trop, n_fruity], index=['tropical', 'fruity'])\n",
       "```"
      ]
     },
     "metadata": {},
     "output_type": "display_data"
    }
   ],
   "source": [
    "q6.hint()\n",
    "q6.solution()"
   ]
  },
  {
   "cell_type": "markdown",
   "id": "30ff1daa",
   "metadata": {
    "papermill": {
     "duration": 0.011453,
     "end_time": "2022-06-28T18:07:12.441306",
     "exception": false,
     "start_time": "2022-06-28T18:07:12.429853",
     "status": "completed"
    },
    "tags": []
   },
   "source": [
    "## 7.\n",
    "We'd like to host these wine reviews on our website, but a rating system ranging from 80 to 100 points is too hard to understand - we'd like to translate them into simple star ratings. A score of 95 or higher counts as 3 stars, a score of at least 85 but less than 95 is 2 stars. Any other score is 1 star.\n",
    "\n",
    "Also, the Canadian Vintners Association bought a lot of ads on the site, so any wines from Canada should automatically get 3 stars, regardless of points.\n",
    "\n",
    "Create a series `star_ratings` with the number of stars corresponding to each review in the dataset."
   ]
  },
  {
   "cell_type": "code",
   "execution_count": 13,
   "id": "fbfc1db4",
   "metadata": {
    "execution": {
     "iopub.execute_input": "2022-06-28T18:07:12.467865Z",
     "iopub.status.busy": "2022-06-28T18:07:12.467030Z",
     "iopub.status.idle": "2022-06-28T18:07:17.385268Z",
     "shell.execute_reply": "2022-06-28T18:07:17.384117Z"
    },
    "papermill": {
     "duration": 4.934078,
     "end_time": "2022-06-28T18:07:17.387584",
     "exception": false,
     "start_time": "2022-06-28T18:07:12.453506",
     "status": "completed"
    },
    "tags": []
   },
   "outputs": [
    {
     "name": "stdout",
     "output_type": "stream",
     "text": [
      "0         2\n",
      "1         2\n",
      "         ..\n",
      "129969    2\n",
      "129970    2\n",
      "Length: 129971, dtype: int64\n"
     ]
    },
    {
     "data": {
      "application/javascript": [
       "parent.postMessage({\"jupyterEvent\": \"custom.exercise_interaction\", \"data\": {\"outcomeType\": 1, \"valueTowardsCompletion\": 0.14285714285714285, \"interactionType\": 1, \"questionType\": 1, \"questionId\": \"7_StarRatings\", \"learnToolsVersion\": \"0.3.4\", \"failureMessage\": \"\", \"exceptionClass\": \"\", \"trace\": \"\"}}, \"*\")"
      ],
      "text/plain": [
       "<IPython.core.display.Javascript object>"
      ]
     },
     "metadata": {},
     "output_type": "display_data"
    },
    {
     "data": {
      "text/markdown": [
       "<span style=\"color:#33cc33\">Correct</span>"
      ],
      "text/plain": [
       "Correct"
      ]
     },
     "metadata": {},
     "output_type": "display_data"
    }
   ],
   "source": [
    "def stars(row):\n",
    "    if row.country == 'Canada':\n",
    "        return 3\n",
    "    elif row.points >= 95:\n",
    "        return 3\n",
    "    elif row.points >= 85:\n",
    "        return 2\n",
    "    else:\n",
    "        return 1\n",
    "\n",
    "star_ratings = reviews.apply(stars, axis='columns')\n",
    "print(star_ratings)\n",
    "# Check your answer\n",
    "q7.check()"
   ]
  },
  {
   "cell_type": "code",
   "execution_count": 14,
   "id": "0be33c03",
   "metadata": {
    "execution": {
     "iopub.execute_input": "2022-06-28T18:07:17.414891Z",
     "iopub.status.busy": "2022-06-28T18:07:17.414160Z",
     "iopub.status.idle": "2022-06-28T18:07:17.427223Z",
     "shell.execute_reply": "2022-06-28T18:07:17.426110Z"
    },
    "papermill": {
     "duration": 0.029367,
     "end_time": "2022-06-28T18:07:17.429623",
     "exception": false,
     "start_time": "2022-06-28T18:07:17.400256",
     "status": "completed"
    },
    "tags": []
   },
   "outputs": [
    {
     "data": {
      "application/javascript": [
       "parent.postMessage({\"jupyterEvent\": \"custom.exercise_interaction\", \"data\": {\"interactionType\": 2, \"questionType\": 1, \"questionId\": \"7_StarRatings\", \"learnToolsVersion\": \"0.3.4\", \"valueTowardsCompletion\": 0.0, \"failureMessage\": \"\", \"exceptionClass\": \"\", \"trace\": \"\", \"outcomeType\": 4}}, \"*\")"
      ],
      "text/plain": [
       "<IPython.core.display.Javascript object>"
      ]
     },
     "metadata": {},
     "output_type": "display_data"
    },
    {
     "data": {
      "text/markdown": [
       "<span style=\"color:#3366cc\">Hint:</span> Begin by writing a custom function that accepts a row from the DataFrame as input and returns the star rating corresponding to the row.  Then, use `DataFrame.apply` to apply the custom function to every row in the dataset."
      ],
      "text/plain": [
       "Hint: Begin by writing a custom function that accepts a row from the DataFrame as input and returns the star rating corresponding to the row.  Then, use `DataFrame.apply` to apply the custom function to every row in the dataset."
      ]
     },
     "metadata": {},
     "output_type": "display_data"
    },
    {
     "data": {
      "application/javascript": [
       "parent.postMessage({\"jupyterEvent\": \"custom.exercise_interaction\", \"data\": {\"interactionType\": 3, \"questionType\": 1, \"questionId\": \"7_StarRatings\", \"learnToolsVersion\": \"0.3.4\", \"valueTowardsCompletion\": 0.0, \"failureMessage\": \"\", \"exceptionClass\": \"\", \"trace\": \"\", \"outcomeType\": 4}}, \"*\")"
      ],
      "text/plain": [
       "<IPython.core.display.Javascript object>"
      ]
     },
     "metadata": {},
     "output_type": "display_data"
    },
    {
     "data": {
      "text/markdown": [
       "<span style=\"color:#33cc99\">Solution:</span> \n",
       "```python\n",
       "def stars(row):\n",
       "    if row.country == 'Canada':\n",
       "        return 3\n",
       "    elif row.points >= 95:\n",
       "        return 3\n",
       "    elif row.points >= 85:\n",
       "        return 2\n",
       "    else:\n",
       "        return 1\n",
       "    \n",
       "star_ratings = reviews.apply(stars, axis='columns')\n",
       "```"
      ],
      "text/plain": [
       "Solution: \n",
       "```python\n",
       "def stars(row):\n",
       "    if row.country == 'Canada':\n",
       "        return 3\n",
       "    elif row.points >= 95:\n",
       "        return 3\n",
       "    elif row.points >= 85:\n",
       "        return 2\n",
       "    else:\n",
       "        return 1\n",
       "    \n",
       "star_ratings = reviews.apply(stars, axis='columns')\n",
       "```"
      ]
     },
     "metadata": {},
     "output_type": "display_data"
    }
   ],
   "source": [
    "q7.hint()\n",
    "q7.solution()"
   ]
  },
  {
   "cell_type": "markdown",
   "id": "38a1e818",
   "metadata": {
    "papermill": {
     "duration": 0.012559,
     "end_time": "2022-06-28T18:07:17.454990",
     "exception": false,
     "start_time": "2022-06-28T18:07:17.442431",
     "status": "completed"
    },
    "tags": []
   },
   "source": [
    "# Keep going\n",
    "Continue to **[grouping and sorting](https://www.kaggle.com/residentmario/grouping-and-sorting)**."
   ]
  },
  {
   "cell_type": "markdown",
   "id": "d7b1fae2",
   "metadata": {
    "papermill": {
     "duration": 0.012562,
     "end_time": "2022-06-28T18:07:17.481500",
     "exception": false,
     "start_time": "2022-06-28T18:07:17.468938",
     "status": "completed"
    },
    "tags": []
   },
   "source": [
    "---\n",
    "\n",
    "\n",
    "\n",
    "\n",
    "*Have questions or comments? Visit the [course discussion forum](https://www.kaggle.com/learn/pandas/discussion) to chat with other learners.*"
   ]
  }
 ],
 "metadata": {
  "kernelspec": {
   "display_name": "Python 3",
   "language": "python",
   "name": "python3"
  },
  "language_info": {
   "codemirror_mode": {
    "name": "ipython",
    "version": 3
   },
   "file_extension": ".py",
   "mimetype": "text/x-python",
   "name": "python",
   "nbconvert_exporter": "python",
   "pygments_lexer": "ipython3",
   "version": "3.7.12"
  },
  "papermill": {
   "default_parameters": {},
   "duration": 24.342918,
   "end_time": "2022-06-28T18:07:18.217142",
   "environment_variables": {},
   "exception": null,
   "input_path": "__notebook__.ipynb",
   "output_path": "__notebook__.ipynb",
   "parameters": {},
   "start_time": "2022-06-28T18:06:53.874224",
   "version": "2.3.4"
  }
 },
 "nbformat": 4,
 "nbformat_minor": 5
}
