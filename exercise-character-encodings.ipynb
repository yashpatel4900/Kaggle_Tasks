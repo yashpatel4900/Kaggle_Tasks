{
 "cells": [
  {
   "cell_type": "markdown",
   "id": "e36cd2e7",
   "metadata": {
    "papermill": {
     "duration": 0.006312,
     "end_time": "2022-06-27T20:36:14.196718",
     "exception": false,
     "start_time": "2022-06-27T20:36:14.190406",
     "status": "completed"
    },
    "tags": []
   },
   "source": [
    "**This notebook is an exercise in the [Data Cleaning](https://www.kaggle.com/learn/data-cleaning) course.  You can reference the tutorial at [this link](https://www.kaggle.com/alexisbcook/character-encodings).**\n",
    "\n",
    "---\n"
   ]
  },
  {
   "cell_type": "markdown",
   "id": "5464fb28",
   "metadata": {
    "papermill": {
     "duration": 0.004978,
     "end_time": "2022-06-27T20:36:14.207312",
     "exception": false,
     "start_time": "2022-06-27T20:36:14.202334",
     "status": "completed"
    },
    "tags": []
   },
   "source": [
    "In this exercise, you'll apply what you learned in the **Character encodings** tutorial.\n",
    "\n",
    "# Setup\n",
    "\n",
    "The questions below will give you feedback on your work. Run the following cell to set up the feedback system."
   ]
  },
  {
   "cell_type": "code",
   "execution_count": 1,
   "id": "6419fc6c",
   "metadata": {
    "execution": {
     "iopub.execute_input": "2022-06-27T20:36:14.220419Z",
     "iopub.status.busy": "2022-06-27T20:36:14.219960Z",
     "iopub.status.idle": "2022-06-27T20:36:14.316145Z",
     "shell.execute_reply": "2022-06-27T20:36:14.314726Z"
    },
    "papermill": {
     "duration": 0.106257,
     "end_time": "2022-06-27T20:36:14.318906",
     "exception": false,
     "start_time": "2022-06-27T20:36:14.212649",
     "status": "completed"
    },
    "tags": []
   },
   "outputs": [
    {
     "name": "stdout",
     "output_type": "stream",
     "text": [
      "Setup Complete\n"
     ]
    }
   ],
   "source": [
    "from learntools.core import binder\n",
    "binder.bind(globals())\n",
    "from learntools.data_cleaning.ex4 import *\n",
    "print(\"Setup Complete\")"
   ]
  },
  {
   "cell_type": "markdown",
   "id": "53e2ee46",
   "metadata": {
    "papermill": {
     "duration": 0.005035,
     "end_time": "2022-06-27T20:36:14.329520",
     "exception": false,
     "start_time": "2022-06-27T20:36:14.324485",
     "status": "completed"
    },
    "tags": []
   },
   "source": [
    "# Get our environment set up\n",
    "\n",
    "The first thing we'll need to do is load in the libraries we'll be using."
   ]
  },
  {
   "cell_type": "code",
   "execution_count": 2,
   "id": "df04b517",
   "metadata": {
    "execution": {
     "iopub.execute_input": "2022-06-27T20:36:14.342290Z",
     "iopub.status.busy": "2022-06-27T20:36:14.341476Z",
     "iopub.status.idle": "2022-06-27T20:36:14.346730Z",
     "shell.execute_reply": "2022-06-27T20:36:14.345950Z"
    },
    "papermill": {
     "duration": 0.01437,
     "end_time": "2022-06-27T20:36:14.349198",
     "exception": false,
     "start_time": "2022-06-27T20:36:14.334828",
     "status": "completed"
    },
    "tags": []
   },
   "outputs": [],
   "source": [
    "# modules we'll use\n",
    "import pandas as pd\n",
    "import numpy as np\n",
    "\n",
    "# helpful character encoding module\n",
    "import chardet\n",
    "\n",
    "# set seed for reproducibility\n",
    "np.random.seed(0)"
   ]
  },
  {
   "cell_type": "markdown",
   "id": "86b17c15",
   "metadata": {
    "papermill": {
     "duration": 0.004995,
     "end_time": "2022-06-27T20:36:14.359625",
     "exception": false,
     "start_time": "2022-06-27T20:36:14.354630",
     "status": "completed"
    },
    "tags": []
   },
   "source": [
    "# 1) What are encodings?\n",
    "\n",
    "You're working with a dataset composed of bytes.  Run the code cell below to print a sample entry."
   ]
  },
  {
   "cell_type": "code",
   "execution_count": 3,
   "id": "86dcad2e",
   "metadata": {
    "execution": {
     "iopub.execute_input": "2022-06-27T20:36:14.372685Z",
     "iopub.status.busy": "2022-06-27T20:36:14.371565Z",
     "iopub.status.idle": "2022-06-27T20:36:14.378500Z",
     "shell.execute_reply": "2022-06-27T20:36:14.377235Z"
    },
    "papermill": {
     "duration": 0.015911,
     "end_time": "2022-06-27T20:36:14.380784",
     "exception": false,
     "start_time": "2022-06-27T20:36:14.364873",
     "status": "completed"
    },
    "tags": []
   },
   "outputs": [
    {
     "name": "stdout",
     "output_type": "stream",
     "text": [
      "b'\\xa7A\\xa6n'\n",
      "data type: <class 'bytes'>\n"
     ]
    }
   ],
   "source": [
    "sample_entry = b'\\xa7A\\xa6n'\n",
    "print(sample_entry)\n",
    "print('data type:', type(sample_entry))"
   ]
  },
  {
   "cell_type": "markdown",
   "id": "4236b54c",
   "metadata": {
    "papermill": {
     "duration": 0.005237,
     "end_time": "2022-06-27T20:36:14.391473",
     "exception": false,
     "start_time": "2022-06-27T20:36:14.386236",
     "status": "completed"
    },
    "tags": []
   },
   "source": [
    "You notice that it doesn't use the standard UTF-8 encoding. \n",
    "\n",
    "Use the next code cell to create a variable `new_entry` that changes the encoding from `\"big5-tw\"` to `\"utf-8\"`.  `new_entry` should have the bytes datatype."
   ]
  },
  {
   "cell_type": "code",
   "execution_count": 4,
   "id": "ab9989e8",
   "metadata": {
    "execution": {
     "iopub.execute_input": "2022-06-27T20:36:14.404724Z",
     "iopub.status.busy": "2022-06-27T20:36:14.403912Z",
     "iopub.status.idle": "2022-06-27T20:36:14.417644Z",
     "shell.execute_reply": "2022-06-27T20:36:14.416615Z"
    },
    "papermill": {
     "duration": 0.02309,
     "end_time": "2022-06-27T20:36:14.419993",
     "exception": false,
     "start_time": "2022-06-27T20:36:14.396903",
     "status": "completed"
    },
    "tags": []
   },
   "outputs": [
    {
     "data": {
      "application/javascript": [
       "parent.postMessage({\"jupyterEvent\": \"custom.exercise_interaction\", \"data\": {\"outcomeType\": 1, \"valueTowardsCompletion\": 0.3333333333333333, \"interactionType\": 1, \"questionType\": 1, \"questionId\": \"1_EncodingsIntro\", \"learnToolsVersion\": \"0.3.4\", \"failureMessage\": \"\", \"exceptionClass\": \"\", \"trace\": \"\"}}, \"*\")"
      ],
      "text/plain": [
       "<IPython.core.display.Javascript object>"
      ]
     },
     "metadata": {},
     "output_type": "display_data"
    },
    {
     "data": {
      "text/markdown": [
       "<span style=\"color:#33cc33\">Correct</span>"
      ],
      "text/plain": [
       "Correct"
      ]
     },
     "metadata": {},
     "output_type": "display_data"
    }
   ],
   "source": [
    "before = sample_entry.decode(\"big5-tw\")\n",
    "new_entry = before.encode()\n",
    "\n",
    "# Check your answer\n",
    "q1.check()"
   ]
  },
  {
   "cell_type": "code",
   "execution_count": 5,
   "id": "0b0e61fd",
   "metadata": {
    "execution": {
     "iopub.execute_input": "2022-06-27T20:36:14.433677Z",
     "iopub.status.busy": "2022-06-27T20:36:14.432868Z",
     "iopub.status.idle": "2022-06-27T20:36:14.446514Z",
     "shell.execute_reply": "2022-06-27T20:36:14.445378Z"
    },
    "papermill": {
     "duration": 0.023289,
     "end_time": "2022-06-27T20:36:14.448880",
     "exception": false,
     "start_time": "2022-06-27T20:36:14.425591",
     "status": "completed"
    },
    "tags": []
   },
   "outputs": [
    {
     "data": {
      "application/javascript": [
       "parent.postMessage({\"jupyterEvent\": \"custom.exercise_interaction\", \"data\": {\"interactionType\": 2, \"questionType\": 1, \"questionId\": \"1_EncodingsIntro\", \"learnToolsVersion\": \"0.3.4\", \"valueTowardsCompletion\": 0.0, \"failureMessage\": \"\", \"exceptionClass\": \"\", \"trace\": \"\", \"outcomeType\": 4}}, \"*\")"
      ],
      "text/plain": [
       "<IPython.core.display.Javascript object>"
      ]
     },
     "metadata": {},
     "output_type": "display_data"
    },
    {
     "data": {
      "text/markdown": [
       "<span style=\"color:#3366cc\">Hint:</span> Try using `.decode()` to get the string, then `.encode()` to get the bytes representation, encoded in UTF-8."
      ],
      "text/plain": [
       "Hint: Try using `.decode()` to get the string, then `.encode()` to get the bytes representation, encoded in UTF-8."
      ]
     },
     "metadata": {},
     "output_type": "display_data"
    },
    {
     "data": {
      "application/javascript": [
       "parent.postMessage({\"jupyterEvent\": \"custom.exercise_interaction\", \"data\": {\"interactionType\": 3, \"questionType\": 1, \"questionId\": \"1_EncodingsIntro\", \"learnToolsVersion\": \"0.3.4\", \"valueTowardsCompletion\": 0.0, \"failureMessage\": \"\", \"exceptionClass\": \"\", \"trace\": \"\", \"outcomeType\": 4}}, \"*\")"
      ],
      "text/plain": [
       "<IPython.core.display.Javascript object>"
      ]
     },
     "metadata": {},
     "output_type": "display_data"
    },
    {
     "data": {
      "text/markdown": [
       "<span style=\"color:#33cc99\">Solution:</span> \n",
       "```python\n",
       "before = sample_entry.decode(\"big5-tw\")\n",
       "new_entry = before.encode()\n",
       "\n",
       "```"
      ],
      "text/plain": [
       "Solution: \n",
       "```python\n",
       "before = sample_entry.decode(\"big5-tw\")\n",
       "new_entry = before.encode()\n",
       "\n",
       "```"
      ]
     },
     "metadata": {},
     "output_type": "display_data"
    }
   ],
   "source": [
    "# Lines below will give you a hint or solution code\n",
    "q1.hint()\n",
    "q1.solution()"
   ]
  },
  {
   "cell_type": "markdown",
   "id": "60b3ea62",
   "metadata": {
    "papermill": {
     "duration": 0.006004,
     "end_time": "2022-06-27T20:36:14.461254",
     "exception": false,
     "start_time": "2022-06-27T20:36:14.455250",
     "status": "completed"
    },
    "tags": []
   },
   "source": [
    "# 2) Reading in files with encoding problems\n",
    "\n",
    "Use the code cell below to read in this file at path `\"../input/fatal-police-shootings-in-the-us/PoliceKillingsUS.csv\"`.  \n",
    "\n",
    "Figure out what the correct encoding should be and read in the file to a DataFrame `police_killings`."
   ]
  },
  {
   "cell_type": "code",
   "execution_count": 6,
   "id": "d7ddb746",
   "metadata": {
    "execution": {
     "iopub.execute_input": "2022-06-27T20:36:14.476342Z",
     "iopub.status.busy": "2022-06-27T20:36:14.475537Z",
     "iopub.status.idle": "2022-06-27T20:36:14.503953Z",
     "shell.execute_reply": "2022-06-27T20:36:14.502759Z"
    },
    "papermill": {
     "duration": 0.038759,
     "end_time": "2022-06-27T20:36:14.506343",
     "exception": false,
     "start_time": "2022-06-27T20:36:14.467584",
     "status": "completed"
    },
    "tags": []
   },
   "outputs": [
    {
     "data": {
      "application/javascript": [
       "parent.postMessage({\"jupyterEvent\": \"custom.exercise_interaction\", \"data\": {\"outcomeType\": 1, \"valueTowardsCompletion\": 0.3333333333333333, \"interactionType\": 1, \"questionType\": 1, \"questionId\": \"2_ReadIn\", \"learnToolsVersion\": \"0.3.4\", \"failureMessage\": \"\", \"exceptionClass\": \"\", \"trace\": \"\"}}, \"*\")"
      ],
      "text/plain": [
       "<IPython.core.display.Javascript object>"
      ]
     },
     "metadata": {},
     "output_type": "display_data"
    },
    {
     "data": {
      "text/markdown": [
       "<span style=\"color:#33cc33\">Correct</span>"
      ],
      "text/plain": [
       "Correct"
      ]
     },
     "metadata": {},
     "output_type": "display_data"
    }
   ],
   "source": [
    "# TODO: Load in the DataFrame correctly.\n",
    "police_killings = pd.read_csv(\"../input/fatal-police-shootings-in-the-us/PoliceKillingsUS.csv\", encoding='Windows-1252')\n",
    "\n",
    "# Check your answer\n",
    "q2.check()"
   ]
  },
  {
   "cell_type": "markdown",
   "id": "0e9018e7",
   "metadata": {
    "papermill": {
     "duration": 0.006152,
     "end_time": "2022-06-27T20:36:14.519004",
     "exception": false,
     "start_time": "2022-06-27T20:36:14.512852",
     "status": "completed"
    },
    "tags": []
   },
   "source": [
    "Feel free to use any additional code cells for supplemental work.  To get credit for finishing this question, you'll need to run `q2.check()` and get a result of **Correct**."
   ]
  },
  {
   "cell_type": "code",
   "execution_count": 7,
   "id": "94c7789f",
   "metadata": {
    "execution": {
     "iopub.execute_input": "2022-06-27T20:36:14.533946Z",
     "iopub.status.busy": "2022-06-27T20:36:14.533185Z",
     "iopub.status.idle": "2022-06-27T20:36:14.538238Z",
     "shell.execute_reply": "2022-06-27T20:36:14.537354Z"
    },
    "papermill": {
     "duration": 0.015125,
     "end_time": "2022-06-27T20:36:14.540546",
     "exception": false,
     "start_time": "2022-06-27T20:36:14.525421",
     "status": "completed"
    },
    "tags": []
   },
   "outputs": [],
   "source": [
    "# (Optional) Use this code cell for any additional work."
   ]
  },
  {
   "cell_type": "code",
   "execution_count": 8,
   "id": "c17e7253",
   "metadata": {
    "execution": {
     "iopub.execute_input": "2022-06-27T20:36:14.556713Z",
     "iopub.status.busy": "2022-06-27T20:36:14.555425Z",
     "iopub.status.idle": "2022-06-27T20:36:14.572056Z",
     "shell.execute_reply": "2022-06-27T20:36:14.570949Z"
    },
    "papermill": {
     "duration": 0.02731,
     "end_time": "2022-06-27T20:36:14.574519",
     "exception": false,
     "start_time": "2022-06-27T20:36:14.547209",
     "status": "completed"
    },
    "tags": []
   },
   "outputs": [
    {
     "data": {
      "application/javascript": [
       "parent.postMessage({\"jupyterEvent\": \"custom.exercise_interaction\", \"data\": {\"interactionType\": 2, \"questionType\": 1, \"questionId\": \"2_ReadIn\", \"learnToolsVersion\": \"0.3.4\", \"valueTowardsCompletion\": 0.0, \"failureMessage\": \"\", \"exceptionClass\": \"\", \"trace\": \"\", \"outcomeType\": 4}}, \"*\")"
      ],
      "text/plain": [
       "<IPython.core.display.Javascript object>"
      ]
     },
     "metadata": {},
     "output_type": "display_data"
    },
    {
     "data": {
      "text/markdown": [
       "<span style=\"color:#3366cc\">Hint:</span> If you try to guess the encoding with the first 10,000 bytes of the file, it might give you the wrong answer.  Try using 100,000 or more lines of the file."
      ],
      "text/plain": [
       "Hint: If you try to guess the encoding with the first 10,000 bytes of the file, it might give you the wrong answer.  Try using 100,000 or more lines of the file."
      ]
     },
     "metadata": {},
     "output_type": "display_data"
    },
    {
     "data": {
      "application/javascript": [
       "parent.postMessage({\"jupyterEvent\": \"custom.exercise_interaction\", \"data\": {\"interactionType\": 3, \"questionType\": 1, \"questionId\": \"2_ReadIn\", \"learnToolsVersion\": \"0.3.4\", \"valueTowardsCompletion\": 0.0, \"failureMessage\": \"\", \"exceptionClass\": \"\", \"trace\": \"\", \"outcomeType\": 4}}, \"*\")"
      ],
      "text/plain": [
       "<IPython.core.display.Javascript object>"
      ]
     },
     "metadata": {},
     "output_type": "display_data"
    },
    {
     "data": {
      "text/markdown": [
       "<span style=\"color:#33cc99\">Solution:</span> \n",
       "```python\n",
       "police_killings = pd.read_csv(\"../input/fatal-police-shootings-in-the-us/PoliceKillingsUS.csv\", encoding='Windows-1252')\n",
       "\n",
       "```"
      ],
      "text/plain": [
       "Solution: \n",
       "```python\n",
       "police_killings = pd.read_csv(\"../input/fatal-police-shootings-in-the-us/PoliceKillingsUS.csv\", encoding='Windows-1252')\n",
       "\n",
       "```"
      ]
     },
     "metadata": {},
     "output_type": "display_data"
    }
   ],
   "source": [
    "# Lines below will give you a hint or solution code\n",
    "q2.hint()\n",
    "q2.solution()"
   ]
  },
  {
   "cell_type": "markdown",
   "id": "dffc8659",
   "metadata": {
    "papermill": {
     "duration": 0.006643,
     "end_time": "2022-06-27T20:36:14.588192",
     "exception": false,
     "start_time": "2022-06-27T20:36:14.581549",
     "status": "completed"
    },
    "tags": []
   },
   "source": [
    "# 3) Saving your files with UTF-8 encoding\n",
    "\n",
    "Save a version of the police killings dataset to CSV with UTF-8 encoding.  Your answer will be marked correct after saving this file.  \n",
    "\n",
    "Note: When using the `to_csv()` method, supply only the name of the file (e.g., `\"my_file.csv\"`).  This saves the file at the filepath `\"/kaggle/working/my_file.csv\"`."
   ]
  },
  {
   "cell_type": "code",
   "execution_count": 9,
   "id": "ae10d5a3",
   "metadata": {
    "execution": {
     "iopub.execute_input": "2022-06-27T20:36:14.603945Z",
     "iopub.status.busy": "2022-06-27T20:36:14.603543Z",
     "iopub.status.idle": "2022-06-27T20:36:14.646668Z",
     "shell.execute_reply": "2022-06-27T20:36:14.645910Z"
    },
    "papermill": {
     "duration": 0.053349,
     "end_time": "2022-06-27T20:36:14.648516",
     "exception": false,
     "start_time": "2022-06-27T20:36:14.595167",
     "status": "completed"
    },
    "tags": []
   },
   "outputs": [
    {
     "data": {
      "application/javascript": [
       "parent.postMessage({\"jupyterEvent\": \"custom.exercise_interaction\", \"data\": {\"outcomeType\": 1, \"valueTowardsCompletion\": 0.3333333333333333, \"interactionType\": 1, \"questionType\": 2, \"questionId\": \"3_SaveCSV\", \"learnToolsVersion\": \"0.3.4\", \"failureMessage\": \"\", \"exceptionClass\": \"\", \"trace\": \"\"}}, \"*\")"
      ],
      "text/plain": [
       "<IPython.core.display.Javascript object>"
      ]
     },
     "metadata": {},
     "output_type": "display_data"
    },
    {
     "data": {
      "text/markdown": [
       "<span style=\"color:#33cc33\">Correct</span>"
      ],
      "text/plain": [
       "Correct"
      ]
     },
     "metadata": {},
     "output_type": "display_data"
    }
   ],
   "source": [
    "# TODO: Save the police killings dataset to CSV\n",
    "police_killings.to_csv(\"my_file.csv\")\n",
    "\n",
    "# Check your answer\n",
    "q3.check()"
   ]
  },
  {
   "cell_type": "code",
   "execution_count": 10,
   "id": "001ff757",
   "metadata": {
    "execution": {
     "iopub.execute_input": "2022-06-27T20:36:14.664855Z",
     "iopub.status.busy": "2022-06-27T20:36:14.664505Z",
     "iopub.status.idle": "2022-06-27T20:36:14.675213Z",
     "shell.execute_reply": "2022-06-27T20:36:14.674462Z"
    },
    "papermill": {
     "duration": 0.021617,
     "end_time": "2022-06-27T20:36:14.677324",
     "exception": false,
     "start_time": "2022-06-27T20:36:14.655707",
     "status": "completed"
    },
    "tags": []
   },
   "outputs": [
    {
     "data": {
      "application/javascript": [
       "parent.postMessage({\"jupyterEvent\": \"custom.exercise_interaction\", \"data\": {\"interactionType\": 2, \"questionType\": 2, \"questionId\": \"3_SaveCSV\", \"learnToolsVersion\": \"0.3.4\", \"valueTowardsCompletion\": 0.0, \"failureMessage\": \"\", \"exceptionClass\": \"\", \"trace\": \"\", \"outcomeType\": 4}}, \"*\")"
      ],
      "text/plain": [
       "<IPython.core.display.Javascript object>"
      ]
     },
     "metadata": {},
     "output_type": "display_data"
    },
    {
     "data": {
      "text/markdown": [
       "<span style=\"color:#3366cc\">Hint:</span> Use `.to_csv().`"
      ],
      "text/plain": [
       "Hint: Use `.to_csv().`"
      ]
     },
     "metadata": {},
     "output_type": "display_data"
    },
    {
     "data": {
      "application/javascript": [
       "parent.postMessage({\"jupyterEvent\": \"custom.exercise_interaction\", \"data\": {\"interactionType\": 3, \"questionType\": 2, \"questionId\": \"3_SaveCSV\", \"learnToolsVersion\": \"0.3.4\", \"valueTowardsCompletion\": 0.0, \"failureMessage\": \"\", \"exceptionClass\": \"\", \"trace\": \"\", \"outcomeType\": 4}}, \"*\")"
      ],
      "text/plain": [
       "<IPython.core.display.Javascript object>"
      ]
     },
     "metadata": {},
     "output_type": "display_data"
    },
    {
     "data": {
      "text/markdown": [
       "<span style=\"color:#33cc99\">Solution:</span> \n",
       "```python\n",
       "\n",
       "police_killings.to_csv(\"my_file.csv\")\n",
       "\n",
       "```"
      ],
      "text/plain": [
       "Solution: \n",
       "```python\n",
       "\n",
       "police_killings.to_csv(\"my_file.csv\")\n",
       "\n",
       "```"
      ]
     },
     "metadata": {},
     "output_type": "display_data"
    }
   ],
   "source": [
    "# Lines below will give you a hint or solution code\n",
    "q3.hint()\n",
    "q3.solution()"
   ]
  },
  {
   "cell_type": "markdown",
   "id": "bbd4cefd",
   "metadata": {
    "papermill": {
     "duration": 0.008247,
     "end_time": "2022-06-27T20:36:14.693508",
     "exception": false,
     "start_time": "2022-06-27T20:36:14.685261",
     "status": "completed"
    },
    "tags": []
   },
   "source": [
    "# (Optional) More practice\n",
    "\n",
    "Check out [this dataset of files in different character encodings](https://www.kaggle.com/rtatman/character-encoding-examples). Can you read in all the files with their original encodings and them save them out as UTF-8 files?\n",
    "\n",
    "If you have a file that's in UTF-8 but has just a couple of weird-looking characters in it, you can try out the [ftfy module](https://ftfy.readthedocs.io/en/latest/#) and see if it helps. \n",
    "\n",
    "# Keep going\n",
    "\n",
    "In the final lesson, learn how to [**clean up inconsistent text entries**](https://www.kaggle.com/alexisbcook/inconsistent-data-entry) in your dataset."
   ]
  },
  {
   "cell_type": "markdown",
   "id": "ab1f0c13",
   "metadata": {
    "papermill": {
     "duration": 0.007515,
     "end_time": "2022-06-27T20:36:14.708957",
     "exception": false,
     "start_time": "2022-06-27T20:36:14.701442",
     "status": "completed"
    },
    "tags": []
   },
   "source": [
    "---\n",
    "\n",
    "\n",
    "\n",
    "\n",
    "*Have questions or comments? Visit the [course discussion forum](https://www.kaggle.com/learn/data-cleaning/discussion) to chat with other learners.*"
   ]
  }
 ],
 "metadata": {
  "kernelspec": {
   "display_name": "Python 3",
   "language": "python",
   "name": "python3"
  },
  "language_info": {
   "codemirror_mode": {
    "name": "ipython",
    "version": 3
   },
   "file_extension": ".py",
   "mimetype": "text/x-python",
   "name": "python",
   "nbconvert_exporter": "python",
   "pygments_lexer": "ipython3",
   "version": "3.7.12"
  },
  "papermill": {
   "default_parameters": {},
   "duration": 11.44856,
   "end_time": "2022-06-27T20:36:15.438349",
   "environment_variables": {},
   "exception": null,
   "input_path": "__notebook__.ipynb",
   "output_path": "__notebook__.ipynb",
   "parameters": {},
   "start_time": "2022-06-27T20:36:03.989789",
   "version": "2.3.4"
  }
 },
 "nbformat": 4,
 "nbformat_minor": 5
}
